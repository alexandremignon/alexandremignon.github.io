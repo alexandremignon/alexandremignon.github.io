{
 "cells": [
  {
   "cell_type": "code",
   "execution_count": 1,
   "metadata": {},
   "outputs": [
    {
     "name": "stderr",
     "output_type": "stream",
     "text": [
      "/var/folders/9r/0fvp9w9j5sqgb2c0lccvjzvm0000gn/T/ipykernel_8396/1927614552.py:6: UserWarning: \n",
      "The dash_html_components package is deprecated. Please replace\n",
      "`import dash_html_components as html` with `from dash import html`\n",
      "  import dash_html_components as html\n"
     ]
    }
   ],
   "source": [
    "import dash\n",
    "from dash import dcc\n",
    "from jupyter_dash import JupyterDash\n",
    "from dash import Dash, dcc, Output, Input\n",
    "import dash_mantine_components as dmc\n",
    "import dash_html_components as html\n",
    "from dash import html\n",
    "from dash.dependencies import Input, Output "
   ]
  },
  {
   "cell_type": "code",
   "execution_count": 3,
   "metadata": {},
   "outputs": [],
   "source": [
    "import pandas as pd\n",
    "import pylab as pl\n",
    "import numpy as np\n",
    "import scipy.optimize as opt\n",
    "import statsmodels.api as sm\n",
    "from sklearn import preprocessing, metrics\n",
    "from sklearn.metrics import r2_score\n",
    "%matplotlib inline\n",
    "import matplotlib.pyplot as plt\n",
    "import matplotlib.mlab as mlab\n",
    "import plotly.express as px\n",
    "import plotly.graph_objects as go\n",
    "import seaborn as sns\n"
   ]
  },
  {
   "cell_type": "code",
   "execution_count": 5,
   "metadata": {},
   "outputs": [
    {
     "data": {
      "text/plain": [
       "Index(['Id', 'Hopital', 'DDN', 'DCHIR', 'Year', 'DDD', 'Age', 'Sexe', 'Sex',\n",
       "       'Poids', 'Taille', 'BMI', 'HTA', 'Diabete', 'Dyslipid', 'AOMI', 'BPCO',\n",
       "       'IRC', 'Dialyse', 'Redux', 'HTAP', 'Card_isch', 'Card_dilat',\n",
       "       'Card_cong', 'Card_autre', 'IEC', 'BB', 'AMIOD', 'Rea_pre_greffe',\n",
       "       'Duree_rea_pre', 'Infection_preop', 'VM_preop', 'ECMO_preop',\n",
       "       'LVAD_preop', 'Hb_preop', 'Creat_preop', 'Cl_creat', 'Bili_preop',\n",
       "       'DPG', 'DDD.1', 'Delai_DC', 'Deces', 'DC_J90', 'DC_J365', 'DC_J1825'],\n",
       "      dtype='object')"
      ]
     },
     "execution_count": 5,
     "metadata": {},
     "output_type": "execute_result"
    }
   ],
   "source": [
    "# dataset\n",
    "df = pd.read_excel(\"GREFFES MASTER PREOP.xlsx\")\n",
    "# df['Hopital'] = df['Hopital'].replace({'PITIE':0, 'HEGP':1, 'BICHAT':2})\n",
    "df.columns\n"
   ]
  },
  {
   "cell_type": "code",
   "execution_count": 6,
   "metadata": {},
   "outputs": [
    {
     "data": {
      "application/vnd.plotly.v1+json": {
       "config": {
        "plotlyServerURL": "https://plot.ly"
       },
       "data": [
        {
         "alignmentgroup": "True",
         "bingroup": "x",
         "histfunc": "count",
         "hovertemplate": "Year=2015<br>Hopital=%{x}<br>count=%{y}<extra></extra>",
         "legendgroup": "",
         "marker": {
          "color": "#1F77B4",
          "pattern": {
           "shape": ""
          }
         },
         "name": "",
         "offsetgroup": "",
         "orientation": "v",
         "showlegend": false,
         "type": "histogram",
         "x": [
          "HEGP",
          "HEGP",
          "HEGP",
          "HEGP",
          "HEGP",
          "HEGP",
          "HEGP",
          "HEGP",
          "HEGP",
          "HEGP",
          "PITIE",
          "PITIE",
          "PITIE",
          "PITIE",
          "PITIE",
          "PITIE",
          "PITIE",
          "PITIE",
          "PITIE",
          "PITIE",
          "PITIE",
          "PITIE",
          "PITIE",
          "PITIE",
          "PITIE",
          "PITIE",
          "PITIE",
          "PITIE",
          "PITIE",
          "PITIE",
          "PITIE",
          "PITIE",
          "PITIE",
          "PITIE",
          "PITIE",
          "PITIE",
          "PITIE",
          "PITIE",
          "PITIE",
          "PITIE",
          "PITIE",
          "PITIE",
          "BICHAT",
          "BICHAT",
          "BICHAT",
          "BICHAT",
          "BICHAT",
          "BICHAT",
          "BICHAT",
          "BICHAT",
          "BICHAT",
          "BICHAT",
          "BICHAT",
          "BICHAT",
          "BICHAT",
          "BICHAT",
          "BICHAT",
          "BICHAT",
          "BICHAT",
          "BICHAT"
         ],
         "xaxis": "x",
         "y": [
          0,
          1,
          2,
          3,
          4,
          5,
          11,
          45,
          49,
          51,
          99,
          100,
          101,
          102,
          103,
          104,
          105,
          106,
          107,
          108,
          109,
          110,
          111,
          112,
          113,
          114,
          115,
          116,
          117,
          118,
          119,
          120,
          121,
          122,
          123,
          124,
          125,
          126,
          127,
          128,
          129,
          130,
          369,
          370,
          371,
          372,
          373,
          374,
          375,
          376,
          377,
          378,
          379,
          380,
          381,
          382,
          383,
          384,
          385,
          386
         ],
         "yaxis": "y"
        }
       ],
       "frames": [
        {
         "data": [
          {
           "alignmentgroup": "True",
           "bingroup": "x",
           "histfunc": "count",
           "hovertemplate": "Year=2015<br>Hopital=%{x}<br>count=%{y}<extra></extra>",
           "legendgroup": "",
           "marker": {
            "color": "#1F77B4",
            "pattern": {
             "shape": ""
            }
           },
           "name": "",
           "offsetgroup": "",
           "orientation": "v",
           "showlegend": false,
           "type": "histogram",
           "x": [
            "HEGP",
            "HEGP",
            "HEGP",
            "HEGP",
            "HEGP",
            "HEGP",
            "HEGP",
            "HEGP",
            "HEGP",
            "HEGP",
            "PITIE",
            "PITIE",
            "PITIE",
            "PITIE",
            "PITIE",
            "PITIE",
            "PITIE",
            "PITIE",
            "PITIE",
            "PITIE",
            "PITIE",
            "PITIE",
            "PITIE",
            "PITIE",
            "PITIE",
            "PITIE",
            "PITIE",
            "PITIE",
            "PITIE",
            "PITIE",
            "PITIE",
            "PITIE",
            "PITIE",
            "PITIE",
            "PITIE",
            "PITIE",
            "PITIE",
            "PITIE",
            "PITIE",
            "PITIE",
            "PITIE",
            "PITIE",
            "BICHAT",
            "BICHAT",
            "BICHAT",
            "BICHAT",
            "BICHAT",
            "BICHAT",
            "BICHAT",
            "BICHAT",
            "BICHAT",
            "BICHAT",
            "BICHAT",
            "BICHAT",
            "BICHAT",
            "BICHAT",
            "BICHAT",
            "BICHAT",
            "BICHAT",
            "BICHAT"
           ],
           "xaxis": "x",
           "y": [
            0,
            1,
            2,
            3,
            4,
            5,
            11,
            45,
            49,
            51,
            99,
            100,
            101,
            102,
            103,
            104,
            105,
            106,
            107,
            108,
            109,
            110,
            111,
            112,
            113,
            114,
            115,
            116,
            117,
            118,
            119,
            120,
            121,
            122,
            123,
            124,
            125,
            126,
            127,
            128,
            129,
            130,
            369,
            370,
            371,
            372,
            373,
            374,
            375,
            376,
            377,
            378,
            379,
            380,
            381,
            382,
            383,
            384,
            385,
            386
           ],
           "yaxis": "y"
          }
         ],
         "name": "2015"
        },
        {
         "data": [
          {
           "alignmentgroup": "True",
           "bingroup": "x",
           "histfunc": "count",
           "hovertemplate": "Year=2016<br>Hopital=%{x}<br>count=%{y}<extra></extra>",
           "legendgroup": "",
           "marker": {
            "color": "#1F77B4",
            "pattern": {
             "shape": ""
            }
           },
           "name": "",
           "offsetgroup": "",
           "orientation": "v",
           "showlegend": false,
           "type": "histogram",
           "x": [
            "HEGP",
            "HEGP",
            "HEGP",
            "HEGP",
            "HEGP",
            "HEGP",
            "HEGP",
            "HEGP",
            "HEGP",
            "PITIE",
            "PITIE",
            "PITIE",
            "PITIE",
            "PITIE",
            "PITIE",
            "PITIE",
            "PITIE",
            "PITIE",
            "PITIE",
            "PITIE",
            "PITIE",
            "PITIE",
            "PITIE",
            "PITIE",
            "PITIE",
            "PITIE",
            "PITIE",
            "PITIE",
            "PITIE",
            "PITIE",
            "PITIE",
            "PITIE",
            "PITIE",
            "PITIE",
            "PITIE",
            "PITIE",
            "PITIE",
            "PITIE",
            "PITIE",
            "PITIE",
            "PITIE",
            "PITIE",
            "PITIE",
            "PITIE",
            "PITIE",
            "PITIE",
            "PITIE",
            "PITIE",
            "PITIE",
            "BICHAT",
            "BICHAT",
            "BICHAT",
            "BICHAT",
            "BICHAT",
            "BICHAT",
            "BICHAT",
            "BICHAT",
            "BICHAT",
            "BICHAT",
            "BICHAT",
            "BICHAT",
            "BICHAT",
            "BICHAT",
            "BICHAT",
            "BICHAT",
            "BICHAT",
            "BICHAT",
            "BICHAT",
            "BICHAT",
            "BICHAT",
            "BICHAT",
            "BICHAT",
            "BICHAT",
            "BICHAT",
            "BICHAT",
            "BICHAT",
            "BICHAT",
            "BICHAT",
            "BICHAT",
            "BICHAT",
            "BICHAT",
            "BICHAT",
            "BICHAT",
            "BICHAT",
            "BICHAT",
            "BICHAT",
            "BICHAT"
           ],
           "xaxis": "x",
           "y": [
            6,
            7,
            8,
            9,
            10,
            12,
            47,
            50,
            52,
            131,
            132,
            133,
            134,
            135,
            136,
            137,
            138,
            139,
            140,
            141,
            142,
            143,
            144,
            145,
            146,
            147,
            148,
            149,
            150,
            151,
            152,
            153,
            154,
            155,
            156,
            157,
            158,
            159,
            160,
            161,
            162,
            163,
            164,
            165,
            166,
            167,
            168,
            169,
            170,
            387,
            388,
            389,
            390,
            391,
            392,
            393,
            394,
            395,
            396,
            397,
            398,
            399,
            400,
            401,
            402,
            403,
            404,
            405,
            406,
            407,
            408,
            409,
            410,
            411,
            412,
            413,
            414,
            415,
            416,
            417,
            418,
            419,
            420,
            421,
            422,
            423,
            600
           ],
           "yaxis": "y"
          }
         ],
         "name": "2016"
        },
        {
         "data": [
          {
           "alignmentgroup": "True",
           "bingroup": "x",
           "histfunc": "count",
           "hovertemplate": "Year=2017<br>Hopital=%{x}<br>count=%{y}<extra></extra>",
           "legendgroup": "",
           "marker": {
            "color": "#1F77B4",
            "pattern": {
             "shape": ""
            }
           },
           "name": "",
           "offsetgroup": "",
           "orientation": "v",
           "showlegend": false,
           "type": "histogram",
           "x": [
            "HEGP",
            "HEGP",
            "HEGP",
            "HEGP",
            "HEGP",
            "HEGP",
            "HEGP",
            "HEGP",
            "HEGP",
            "HEGP",
            "HEGP",
            "HEGP",
            "HEGP",
            "HEGP",
            "HEGP",
            "HEGP",
            "PITIE",
            "PITIE",
            "PITIE",
            "PITIE",
            "PITIE",
            "PITIE",
            "PITIE",
            "PITIE",
            "PITIE",
            "PITIE",
            "PITIE",
            "PITIE",
            "PITIE",
            "PITIE",
            "PITIE",
            "PITIE",
            "PITIE",
            "PITIE",
            "PITIE",
            "PITIE",
            "PITIE",
            "PITIE",
            "PITIE",
            "PITIE",
            "PITIE",
            "PITIE",
            "PITIE",
            "PITIE",
            "PITIE",
            "PITIE",
            "PITIE",
            "PITIE",
            "PITIE",
            "PITIE",
            "PITIE",
            "PITIE",
            "PITIE",
            "PITIE",
            "PITIE",
            "PITIE",
            "PITIE",
            "BICHAT",
            "BICHAT",
            "BICHAT",
            "BICHAT",
            "BICHAT",
            "BICHAT",
            "BICHAT",
            "BICHAT",
            "BICHAT",
            "BICHAT",
            "BICHAT",
            "BICHAT",
            "BICHAT",
            "BICHAT",
            "BICHAT",
            "BICHAT",
            "BICHAT",
            "BICHAT",
            "BICHAT",
            "BICHAT",
            "BICHAT",
            "BICHAT",
            "BICHAT",
            "BICHAT",
            "BICHAT",
            "BICHAT",
            "BICHAT",
            "BICHAT",
            "BICHAT",
            "BICHAT",
            "BICHAT",
            "BICHAT",
            "BICHAT",
            "BICHAT",
            "BICHAT",
            "BICHAT",
            "BICHAT",
            "BICHAT",
            "BICHAT",
            "BICHAT",
            "BICHAT"
           ],
           "xaxis": "x",
           "y": [
            13,
            14,
            15,
            16,
            17,
            18,
            19,
            20,
            26,
            92,
            93,
            94,
            95,
            96,
            97,
            98,
            171,
            172,
            173,
            174,
            175,
            176,
            177,
            178,
            179,
            180,
            181,
            182,
            183,
            184,
            185,
            186,
            187,
            188,
            189,
            190,
            191,
            192,
            193,
            194,
            195,
            196,
            197,
            198,
            199,
            200,
            201,
            202,
            203,
            204,
            205,
            206,
            207,
            208,
            209,
            210,
            211,
            424,
            425,
            426,
            427,
            428,
            429,
            430,
            431,
            432,
            433,
            434,
            435,
            436,
            437,
            438,
            439,
            440,
            441,
            442,
            443,
            444,
            445,
            446,
            447,
            448,
            449,
            450,
            451,
            452,
            453,
            454,
            455,
            456,
            457,
            458,
            459,
            460,
            461,
            462,
            463,
            464
           ],
           "yaxis": "y"
          }
         ],
         "name": "2017"
        },
        {
         "data": [
          {
           "alignmentgroup": "True",
           "bingroup": "x",
           "histfunc": "count",
           "hovertemplate": "Year=2018<br>Hopital=%{x}<br>count=%{y}<extra></extra>",
           "legendgroup": "",
           "marker": {
            "color": "#1F77B4",
            "pattern": {
             "shape": ""
            }
           },
           "name": "",
           "offsetgroup": "",
           "orientation": "v",
           "showlegend": false,
           "type": "histogram",
           "x": [
            "HEGP",
            "HEGP",
            "HEGP",
            "HEGP",
            "HEGP",
            "HEGP",
            "HEGP",
            "HEGP",
            "HEGP",
            "HEGP",
            "HEGP",
            "HEGP",
            "HEGP",
            "HEGP",
            "HEGP",
            "HEGP",
            "HEGP",
            "HEGP",
            "HEGP",
            "HEGP",
            "PITIE",
            "PITIE",
            "PITIE",
            "PITIE",
            "PITIE",
            "PITIE",
            "PITIE",
            "PITIE",
            "PITIE",
            "PITIE",
            "PITIE",
            "PITIE",
            "PITIE",
            "PITIE",
            "PITIE",
            "PITIE",
            "PITIE",
            "PITIE",
            "PITIE",
            "PITIE",
            "PITIE",
            "PITIE",
            "PITIE",
            "PITIE",
            "PITIE",
            "PITIE",
            "PITIE",
            "PITIE",
            "PITIE",
            "PITIE",
            "PITIE",
            "PITIE",
            "PITIE",
            "PITIE",
            "PITIE",
            "PITIE",
            "PITIE",
            "PITIE",
            "BICHAT",
            "BICHAT",
            "BICHAT",
            "BICHAT",
            "BICHAT",
            "BICHAT",
            "BICHAT",
            "BICHAT",
            "BICHAT",
            "BICHAT",
            "BICHAT",
            "BICHAT",
            "BICHAT",
            "BICHAT",
            "BICHAT",
            "BICHAT",
            "BICHAT",
            "BICHAT",
            "BICHAT",
            "BICHAT",
            "BICHAT",
            "BICHAT",
            "BICHAT",
            "BICHAT",
            "BICHAT",
            "BICHAT",
            "BICHAT",
            "BICHAT",
            "BICHAT",
            "BICHAT",
            "BICHAT",
            "BICHAT",
            "BICHAT",
            "BICHAT",
            "BICHAT",
            "BICHAT",
            "BICHAT"
           ],
           "xaxis": "x",
           "y": [
            21,
            22,
            23,
            24,
            25,
            27,
            28,
            37,
            48,
            81,
            82,
            83,
            84,
            85,
            86,
            87,
            88,
            89,
            90,
            91,
            212,
            213,
            214,
            215,
            216,
            217,
            218,
            219,
            220,
            221,
            222,
            223,
            224,
            225,
            226,
            227,
            228,
            229,
            230,
            231,
            232,
            233,
            234,
            235,
            236,
            237,
            238,
            239,
            240,
            241,
            242,
            243,
            244,
            245,
            246,
            247,
            248,
            249,
            465,
            466,
            467,
            468,
            469,
            470,
            471,
            472,
            473,
            474,
            475,
            476,
            477,
            478,
            479,
            480,
            481,
            482,
            483,
            484,
            485,
            486,
            487,
            488,
            489,
            490,
            491,
            492,
            493,
            494,
            495,
            496,
            497,
            498,
            499,
            500,
            501
           ],
           "yaxis": "y"
          }
         ],
         "name": "2018"
        },
        {
         "data": [
          {
           "alignmentgroup": "True",
           "bingroup": "x",
           "histfunc": "count",
           "hovertemplate": "Year=2019<br>Hopital=%{x}<br>count=%{y}<extra></extra>",
           "legendgroup": "",
           "marker": {
            "color": "#1F77B4",
            "pattern": {
             "shape": ""
            }
           },
           "name": "",
           "offsetgroup": "",
           "orientation": "v",
           "showlegend": false,
           "type": "histogram",
           "x": [
            "HEGP",
            "HEGP",
            "HEGP",
            "HEGP",
            "HEGP",
            "HEGP",
            "HEGP",
            "HEGP",
            "HEGP",
            "HEGP",
            "HEGP",
            "HEGP",
            "HEGP",
            "HEGP",
            "HEGP",
            "HEGP",
            "HEGP",
            "HEGP",
            "HEGP",
            "HEGP",
            "HEGP",
            "PITIE",
            "PITIE",
            "PITIE",
            "PITIE",
            "PITIE",
            "PITIE",
            "PITIE",
            "PITIE",
            "PITIE",
            "PITIE",
            "PITIE",
            "PITIE",
            "PITIE",
            "PITIE",
            "PITIE",
            "PITIE",
            "PITIE",
            "PITIE",
            "PITIE",
            "PITIE",
            "PITIE",
            "PITIE",
            "PITIE",
            "PITIE",
            "PITIE",
            "PITIE",
            "PITIE",
            "PITIE",
            "PITIE",
            "PITIE",
            "PITIE",
            "PITIE",
            "PITIE",
            "PITIE",
            "PITIE",
            "BICHAT",
            "BICHAT",
            "BICHAT",
            "BICHAT",
            "BICHAT",
            "BICHAT",
            "BICHAT",
            "BICHAT",
            "BICHAT",
            "BICHAT",
            "BICHAT",
            "BICHAT",
            "BICHAT",
            "BICHAT",
            "BICHAT",
            "BICHAT",
            "BICHAT",
            "BICHAT",
            "BICHAT",
            "BICHAT",
            "BICHAT",
            "BICHAT",
            "BICHAT",
            "BICHAT",
            "BICHAT",
            "BICHAT",
            "BICHAT",
            "BICHAT",
            "BICHAT",
            "BICHAT",
            "BICHAT",
            "BICHAT",
            "BICHAT",
            "BICHAT",
            "BICHAT",
            "BICHAT",
            "BICHAT"
           ],
           "xaxis": "x",
           "y": [
            29,
            30,
            31,
            32,
            33,
            34,
            35,
            36,
            38,
            69,
            70,
            71,
            72,
            73,
            74,
            75,
            76,
            77,
            78,
            79,
            80,
            250,
            251,
            252,
            253,
            254,
            255,
            256,
            257,
            258,
            259,
            260,
            261,
            262,
            263,
            264,
            265,
            266,
            267,
            268,
            269,
            270,
            271,
            272,
            273,
            274,
            275,
            276,
            277,
            278,
            279,
            280,
            281,
            282,
            283,
            284,
            502,
            503,
            504,
            505,
            506,
            507,
            508,
            509,
            510,
            511,
            512,
            513,
            514,
            515,
            516,
            517,
            518,
            519,
            520,
            521,
            522,
            523,
            524,
            525,
            526,
            527,
            528,
            529,
            530,
            531,
            532,
            533,
            534,
            535,
            536,
            537,
            538
           ],
           "yaxis": "y"
          }
         ],
         "name": "2019"
        },
        {
         "data": [
          {
           "alignmentgroup": "True",
           "bingroup": "x",
           "histfunc": "count",
           "hovertemplate": "Year=2020<br>Hopital=%{x}<br>count=%{y}<extra></extra>",
           "legendgroup": "",
           "marker": {
            "color": "#1F77B4",
            "pattern": {
             "shape": ""
            }
           },
           "name": "",
           "offsetgroup": "",
           "orientation": "v",
           "showlegend": false,
           "type": "histogram",
           "x": [
            "HEGP",
            "HEGP",
            "HEGP",
            "HEGP",
            "HEGP",
            "HEGP",
            "HEGP",
            "HEGP",
            "HEGP",
            "HEGP",
            "HEGP",
            "HEGP",
            "HEGP",
            "HEGP",
            "HEGP",
            "HEGP",
            "HEGP",
            "HEGP",
            "HEGP",
            "HEGP",
            "HEGP",
            "HEGP",
            "HEGP",
            "PITIE",
            "PITIE",
            "PITIE",
            "PITIE",
            "PITIE",
            "PITIE",
            "PITIE",
            "PITIE",
            "PITIE",
            "PITIE",
            "PITIE",
            "PITIE",
            "PITIE",
            "PITIE",
            "PITIE",
            "PITIE",
            "PITIE",
            "PITIE",
            "PITIE",
            "PITIE",
            "PITIE",
            "PITIE",
            "PITIE",
            "PITIE",
            "PITIE",
            "PITIE",
            "PITIE",
            "PITIE",
            "PITIE",
            "PITIE",
            "PITIE",
            "PITIE",
            "PITIE",
            "PITIE",
            "PITIE",
            "PITIE",
            "PITIE",
            "PITIE",
            "PITIE",
            "PITIE",
            "BICHAT",
            "BICHAT",
            "BICHAT",
            "BICHAT",
            "BICHAT",
            "BICHAT",
            "BICHAT",
            "BICHAT",
            "BICHAT",
            "BICHAT",
            "BICHAT",
            "BICHAT",
            "BICHAT",
            "BICHAT",
            "BICHAT",
            "BICHAT",
            "BICHAT",
            "BICHAT",
            "BICHAT",
            "BICHAT",
            "BICHAT",
            "BICHAT",
            "BICHAT",
            "BICHAT",
            "BICHAT",
            "BICHAT",
            "BICHAT",
            "BICHAT",
            "BICHAT",
            "BICHAT",
            "BICHAT",
            "BICHAT",
            "BICHAT",
            "BICHAT",
            "BICHAT",
            "BICHAT"
           ],
           "xaxis": "x",
           "y": [
            39,
            40,
            41,
            42,
            43,
            44,
            46,
            53,
            54,
            55,
            56,
            57,
            58,
            59,
            60,
            61,
            62,
            63,
            64,
            65,
            66,
            67,
            68,
            285,
            286,
            287,
            288,
            289,
            290,
            291,
            292,
            293,
            294,
            295,
            296,
            297,
            298,
            299,
            300,
            301,
            302,
            303,
            304,
            305,
            306,
            307,
            308,
            309,
            310,
            311,
            312,
            313,
            314,
            315,
            316,
            317,
            318,
            319,
            320,
            321,
            322,
            323,
            324,
            539,
            540,
            541,
            542,
            543,
            544,
            545,
            546,
            547,
            548,
            549,
            550,
            551,
            552,
            553,
            554,
            555,
            556,
            557,
            558,
            559,
            560,
            561,
            562,
            563,
            564,
            565,
            566,
            567,
            568,
            569,
            570,
            571,
            572,
            573,
            574
           ],
           "yaxis": "y"
          }
         ],
         "name": "2020"
        },
        {
         "data": [
          {
           "alignmentgroup": "True",
           "bingroup": "x",
           "histfunc": "count",
           "hovertemplate": "Year=2021<br>Hopital=%{x}<br>count=%{y}<extra></extra>",
           "legendgroup": "",
           "marker": {
            "color": "#1F77B4",
            "pattern": {
             "shape": ""
            }
           },
           "name": "",
           "offsetgroup": "",
           "orientation": "v",
           "showlegend": false,
           "type": "histogram",
           "x": [
            "PITIE",
            "PITIE",
            "PITIE",
            "PITIE",
            "PITIE",
            "PITIE",
            "PITIE",
            "PITIE",
            "PITIE",
            "PITIE",
            "PITIE",
            "PITIE",
            "PITIE",
            "PITIE",
            "PITIE",
            "PITIE",
            "PITIE",
            "PITIE",
            "PITIE",
            "PITIE",
            "PITIE",
            "PITIE",
            "PITIE",
            "PITIE",
            "PITIE",
            "PITIE",
            "PITIE",
            "PITIE",
            "PITIE",
            "PITIE",
            "PITIE",
            "PITIE",
            "PITIE",
            "PITIE",
            "PITIE",
            "PITIE",
            "PITIE",
            "PITIE",
            "PITIE",
            "PITIE",
            "PITIE",
            "PITIE",
            "PITIE",
            "PITIE",
            "BICHAT",
            "BICHAT",
            "BICHAT",
            "BICHAT",
            "BICHAT",
            "BICHAT",
            "BICHAT",
            "BICHAT",
            "BICHAT",
            "BICHAT",
            "BICHAT",
            "BICHAT",
            "BICHAT",
            "BICHAT",
            "BICHAT",
            "BICHAT",
            "BICHAT",
            "BICHAT",
            "BICHAT",
            "BICHAT",
            "BICHAT",
            "BICHAT",
            "BICHAT",
            "BICHAT",
            "BICHAT",
            "BICHAT",
            "BICHAT",
            "BICHAT",
            "BICHAT",
            "BICHAT",
            "BICHAT",
            "BICHAT",
            "BICHAT"
           ],
           "xaxis": "x",
           "y": [
            325,
            326,
            327,
            328,
            329,
            330,
            331,
            332,
            333,
            334,
            335,
            336,
            337,
            338,
            339,
            340,
            341,
            342,
            343,
            344,
            345,
            346,
            347,
            348,
            349,
            350,
            351,
            352,
            353,
            354,
            355,
            356,
            357,
            358,
            359,
            360,
            361,
            362,
            363,
            364,
            365,
            366,
            367,
            368,
            575,
            576,
            577,
            578,
            579,
            580,
            581,
            582,
            583,
            584,
            585,
            586,
            587,
            588,
            589,
            590,
            591,
            592,
            593,
            594,
            595,
            596,
            597,
            598,
            599,
            601,
            602,
            603,
            604,
            605,
            606,
            607,
            608
           ],
           "yaxis": "y"
          }
         ],
         "name": "2021"
        }
       ],
       "layout": {
        "barmode": "relative",
        "legend": {
         "tracegroupgap": 0
        },
        "margin": {
         "t": 60
        },
        "sliders": [
         {
          "active": 0,
          "currentvalue": {
           "prefix": "Year="
          },
          "len": 0.9,
          "pad": {
           "b": 10,
           "t": 60
          },
          "steps": [
           {
            "args": [
             [
              "2015"
             ],
             {
              "frame": {
               "duration": 0,
               "redraw": true
              },
              "fromcurrent": true,
              "mode": "immediate",
              "transition": {
               "duration": 0,
               "easing": "linear"
              }
             }
            ],
            "label": "2015",
            "method": "animate"
           },
           {
            "args": [
             [
              "2016"
             ],
             {
              "frame": {
               "duration": 0,
               "redraw": true
              },
              "fromcurrent": true,
              "mode": "immediate",
              "transition": {
               "duration": 0,
               "easing": "linear"
              }
             }
            ],
            "label": "2016",
            "method": "animate"
           },
           {
            "args": [
             [
              "2017"
             ],
             {
              "frame": {
               "duration": 0,
               "redraw": true
              },
              "fromcurrent": true,
              "mode": "immediate",
              "transition": {
               "duration": 0,
               "easing": "linear"
              }
             }
            ],
            "label": "2017",
            "method": "animate"
           },
           {
            "args": [
             [
              "2018"
             ],
             {
              "frame": {
               "duration": 0,
               "redraw": true
              },
              "fromcurrent": true,
              "mode": "immediate",
              "transition": {
               "duration": 0,
               "easing": "linear"
              }
             }
            ],
            "label": "2018",
            "method": "animate"
           },
           {
            "args": [
             [
              "2019"
             ],
             {
              "frame": {
               "duration": 0,
               "redraw": true
              },
              "fromcurrent": true,
              "mode": "immediate",
              "transition": {
               "duration": 0,
               "easing": "linear"
              }
             }
            ],
            "label": "2019",
            "method": "animate"
           },
           {
            "args": [
             [
              "2020"
             ],
             {
              "frame": {
               "duration": 0,
               "redraw": true
              },
              "fromcurrent": true,
              "mode": "immediate",
              "transition": {
               "duration": 0,
               "easing": "linear"
              }
             }
            ],
            "label": "2020",
            "method": "animate"
           },
           {
            "args": [
             [
              "2021"
             ],
             {
              "frame": {
               "duration": 0,
               "redraw": true
              },
              "fromcurrent": true,
              "mode": "immediate",
              "transition": {
               "duration": 0,
               "easing": "linear"
              }
             }
            ],
            "label": "2021",
            "method": "animate"
           }
          ],
          "x": 0.1,
          "xanchor": "left",
          "y": 0,
          "yanchor": "top"
         }
        ],
        "template": {
         "data": {
          "bar": [
           {
            "error_x": {
             "color": "rgb(36,36,36)"
            },
            "error_y": {
             "color": "rgb(36,36,36)"
            },
            "marker": {
             "line": {
              "color": "white",
              "width": 0.5
             },
             "pattern": {
              "fillmode": "overlay",
              "size": 10,
              "solidity": 0.2
             }
            },
            "type": "bar"
           }
          ],
          "barpolar": [
           {
            "marker": {
             "line": {
              "color": "white",
              "width": 0.5
             },
             "pattern": {
              "fillmode": "overlay",
              "size": 10,
              "solidity": 0.2
             }
            },
            "type": "barpolar"
           }
          ],
          "carpet": [
           {
            "aaxis": {
             "endlinecolor": "rgb(36,36,36)",
             "gridcolor": "white",
             "linecolor": "white",
             "minorgridcolor": "white",
             "startlinecolor": "rgb(36,36,36)"
            },
            "baxis": {
             "endlinecolor": "rgb(36,36,36)",
             "gridcolor": "white",
             "linecolor": "white",
             "minorgridcolor": "white",
             "startlinecolor": "rgb(36,36,36)"
            },
            "type": "carpet"
           }
          ],
          "choropleth": [
           {
            "colorbar": {
             "outlinewidth": 1,
             "tickcolor": "rgb(36,36,36)",
             "ticks": "outside"
            },
            "type": "choropleth"
           }
          ],
          "contour": [
           {
            "colorbar": {
             "outlinewidth": 1,
             "tickcolor": "rgb(36,36,36)",
             "ticks": "outside"
            },
            "colorscale": [
             [
              0,
              "#440154"
             ],
             [
              0.1111111111111111,
              "#482878"
             ],
             [
              0.2222222222222222,
              "#3e4989"
             ],
             [
              0.3333333333333333,
              "#31688e"
             ],
             [
              0.4444444444444444,
              "#26828e"
             ],
             [
              0.5555555555555556,
              "#1f9e89"
             ],
             [
              0.6666666666666666,
              "#35b779"
             ],
             [
              0.7777777777777778,
              "#6ece58"
             ],
             [
              0.8888888888888888,
              "#b5de2b"
             ],
             [
              1,
              "#fde725"
             ]
            ],
            "type": "contour"
           }
          ],
          "contourcarpet": [
           {
            "colorbar": {
             "outlinewidth": 1,
             "tickcolor": "rgb(36,36,36)",
             "ticks": "outside"
            },
            "type": "contourcarpet"
           }
          ],
          "heatmap": [
           {
            "colorbar": {
             "outlinewidth": 1,
             "tickcolor": "rgb(36,36,36)",
             "ticks": "outside"
            },
            "colorscale": [
             [
              0,
              "#440154"
             ],
             [
              0.1111111111111111,
              "#482878"
             ],
             [
              0.2222222222222222,
              "#3e4989"
             ],
             [
              0.3333333333333333,
              "#31688e"
             ],
             [
              0.4444444444444444,
              "#26828e"
             ],
             [
              0.5555555555555556,
              "#1f9e89"
             ],
             [
              0.6666666666666666,
              "#35b779"
             ],
             [
              0.7777777777777778,
              "#6ece58"
             ],
             [
              0.8888888888888888,
              "#b5de2b"
             ],
             [
              1,
              "#fde725"
             ]
            ],
            "type": "heatmap"
           }
          ],
          "heatmapgl": [
           {
            "colorbar": {
             "outlinewidth": 1,
             "tickcolor": "rgb(36,36,36)",
             "ticks": "outside"
            },
            "colorscale": [
             [
              0,
              "#440154"
             ],
             [
              0.1111111111111111,
              "#482878"
             ],
             [
              0.2222222222222222,
              "#3e4989"
             ],
             [
              0.3333333333333333,
              "#31688e"
             ],
             [
              0.4444444444444444,
              "#26828e"
             ],
             [
              0.5555555555555556,
              "#1f9e89"
             ],
             [
              0.6666666666666666,
              "#35b779"
             ],
             [
              0.7777777777777778,
              "#6ece58"
             ],
             [
              0.8888888888888888,
              "#b5de2b"
             ],
             [
              1,
              "#fde725"
             ]
            ],
            "type": "heatmapgl"
           }
          ],
          "histogram": [
           {
            "marker": {
             "line": {
              "color": "white",
              "width": 0.6
             }
            },
            "type": "histogram"
           }
          ],
          "histogram2d": [
           {
            "colorbar": {
             "outlinewidth": 1,
             "tickcolor": "rgb(36,36,36)",
             "ticks": "outside"
            },
            "colorscale": [
             [
              0,
              "#440154"
             ],
             [
              0.1111111111111111,
              "#482878"
             ],
             [
              0.2222222222222222,
              "#3e4989"
             ],
             [
              0.3333333333333333,
              "#31688e"
             ],
             [
              0.4444444444444444,
              "#26828e"
             ],
             [
              0.5555555555555556,
              "#1f9e89"
             ],
             [
              0.6666666666666666,
              "#35b779"
             ],
             [
              0.7777777777777778,
              "#6ece58"
             ],
             [
              0.8888888888888888,
              "#b5de2b"
             ],
             [
              1,
              "#fde725"
             ]
            ],
            "type": "histogram2d"
           }
          ],
          "histogram2dcontour": [
           {
            "colorbar": {
             "outlinewidth": 1,
             "tickcolor": "rgb(36,36,36)",
             "ticks": "outside"
            },
            "colorscale": [
             [
              0,
              "#440154"
             ],
             [
              0.1111111111111111,
              "#482878"
             ],
             [
              0.2222222222222222,
              "#3e4989"
             ],
             [
              0.3333333333333333,
              "#31688e"
             ],
             [
              0.4444444444444444,
              "#26828e"
             ],
             [
              0.5555555555555556,
              "#1f9e89"
             ],
             [
              0.6666666666666666,
              "#35b779"
             ],
             [
              0.7777777777777778,
              "#6ece58"
             ],
             [
              0.8888888888888888,
              "#b5de2b"
             ],
             [
              1,
              "#fde725"
             ]
            ],
            "type": "histogram2dcontour"
           }
          ],
          "mesh3d": [
           {
            "colorbar": {
             "outlinewidth": 1,
             "tickcolor": "rgb(36,36,36)",
             "ticks": "outside"
            },
            "type": "mesh3d"
           }
          ],
          "parcoords": [
           {
            "line": {
             "colorbar": {
              "outlinewidth": 1,
              "tickcolor": "rgb(36,36,36)",
              "ticks": "outside"
             }
            },
            "type": "parcoords"
           }
          ],
          "pie": [
           {
            "automargin": true,
            "type": "pie"
           }
          ],
          "scatter": [
           {
            "fillpattern": {
             "fillmode": "overlay",
             "size": 10,
             "solidity": 0.2
            },
            "type": "scatter"
           }
          ],
          "scatter3d": [
           {
            "line": {
             "colorbar": {
              "outlinewidth": 1,
              "tickcolor": "rgb(36,36,36)",
              "ticks": "outside"
             }
            },
            "marker": {
             "colorbar": {
              "outlinewidth": 1,
              "tickcolor": "rgb(36,36,36)",
              "ticks": "outside"
             }
            },
            "type": "scatter3d"
           }
          ],
          "scattercarpet": [
           {
            "marker": {
             "colorbar": {
              "outlinewidth": 1,
              "tickcolor": "rgb(36,36,36)",
              "ticks": "outside"
             }
            },
            "type": "scattercarpet"
           }
          ],
          "scattergeo": [
           {
            "marker": {
             "colorbar": {
              "outlinewidth": 1,
              "tickcolor": "rgb(36,36,36)",
              "ticks": "outside"
             }
            },
            "type": "scattergeo"
           }
          ],
          "scattergl": [
           {
            "marker": {
             "colorbar": {
              "outlinewidth": 1,
              "tickcolor": "rgb(36,36,36)",
              "ticks": "outside"
             }
            },
            "type": "scattergl"
           }
          ],
          "scattermapbox": [
           {
            "marker": {
             "colorbar": {
              "outlinewidth": 1,
              "tickcolor": "rgb(36,36,36)",
              "ticks": "outside"
             }
            },
            "type": "scattermapbox"
           }
          ],
          "scatterpolar": [
           {
            "marker": {
             "colorbar": {
              "outlinewidth": 1,
              "tickcolor": "rgb(36,36,36)",
              "ticks": "outside"
             }
            },
            "type": "scatterpolar"
           }
          ],
          "scatterpolargl": [
           {
            "marker": {
             "colorbar": {
              "outlinewidth": 1,
              "tickcolor": "rgb(36,36,36)",
              "ticks": "outside"
             }
            },
            "type": "scatterpolargl"
           }
          ],
          "scatterternary": [
           {
            "marker": {
             "colorbar": {
              "outlinewidth": 1,
              "tickcolor": "rgb(36,36,36)",
              "ticks": "outside"
             }
            },
            "type": "scatterternary"
           }
          ],
          "surface": [
           {
            "colorbar": {
             "outlinewidth": 1,
             "tickcolor": "rgb(36,36,36)",
             "ticks": "outside"
            },
            "colorscale": [
             [
              0,
              "#440154"
             ],
             [
              0.1111111111111111,
              "#482878"
             ],
             [
              0.2222222222222222,
              "#3e4989"
             ],
             [
              0.3333333333333333,
              "#31688e"
             ],
             [
              0.4444444444444444,
              "#26828e"
             ],
             [
              0.5555555555555556,
              "#1f9e89"
             ],
             [
              0.6666666666666666,
              "#35b779"
             ],
             [
              0.7777777777777778,
              "#6ece58"
             ],
             [
              0.8888888888888888,
              "#b5de2b"
             ],
             [
              1,
              "#fde725"
             ]
            ],
            "type": "surface"
           }
          ],
          "table": [
           {
            "cells": {
             "fill": {
              "color": "rgb(237,237,237)"
             },
             "line": {
              "color": "white"
             }
            },
            "header": {
             "fill": {
              "color": "rgb(217,217,217)"
             },
             "line": {
              "color": "white"
             }
            },
            "type": "table"
           }
          ]
         },
         "layout": {
          "annotationdefaults": {
           "arrowhead": 0,
           "arrowwidth": 1
          },
          "autotypenumbers": "strict",
          "coloraxis": {
           "colorbar": {
            "outlinewidth": 1,
            "tickcolor": "rgb(36,36,36)",
            "ticks": "outside"
           }
          },
          "colorscale": {
           "diverging": [
            [
             0,
             "rgb(103,0,31)"
            ],
            [
             0.1,
             "rgb(178,24,43)"
            ],
            [
             0.2,
             "rgb(214,96,77)"
            ],
            [
             0.3,
             "rgb(244,165,130)"
            ],
            [
             0.4,
             "rgb(253,219,199)"
            ],
            [
             0.5,
             "rgb(247,247,247)"
            ],
            [
             0.6,
             "rgb(209,229,240)"
            ],
            [
             0.7,
             "rgb(146,197,222)"
            ],
            [
             0.8,
             "rgb(67,147,195)"
            ],
            [
             0.9,
             "rgb(33,102,172)"
            ],
            [
             1,
             "rgb(5,48,97)"
            ]
           ],
           "sequential": [
            [
             0,
             "#440154"
            ],
            [
             0.1111111111111111,
             "#482878"
            ],
            [
             0.2222222222222222,
             "#3e4989"
            ],
            [
             0.3333333333333333,
             "#31688e"
            ],
            [
             0.4444444444444444,
             "#26828e"
            ],
            [
             0.5555555555555556,
             "#1f9e89"
            ],
            [
             0.6666666666666666,
             "#35b779"
            ],
            [
             0.7777777777777778,
             "#6ece58"
            ],
            [
             0.8888888888888888,
             "#b5de2b"
            ],
            [
             1,
             "#fde725"
            ]
           ],
           "sequentialminus": [
            [
             0,
             "#440154"
            ],
            [
             0.1111111111111111,
             "#482878"
            ],
            [
             0.2222222222222222,
             "#3e4989"
            ],
            [
             0.3333333333333333,
             "#31688e"
            ],
            [
             0.4444444444444444,
             "#26828e"
            ],
            [
             0.5555555555555556,
             "#1f9e89"
            ],
            [
             0.6666666666666666,
             "#35b779"
            ],
            [
             0.7777777777777778,
             "#6ece58"
            ],
            [
             0.8888888888888888,
             "#b5de2b"
            ],
            [
             1,
             "#fde725"
            ]
           ]
          },
          "colorway": [
           "#1F77B4",
           "#FF7F0E",
           "#2CA02C",
           "#D62728",
           "#9467BD",
           "#8C564B",
           "#E377C2",
           "#7F7F7F",
           "#BCBD22",
           "#17BECF"
          ],
          "font": {
           "color": "rgb(36,36,36)"
          },
          "geo": {
           "bgcolor": "white",
           "lakecolor": "white",
           "landcolor": "white",
           "showlakes": true,
           "showland": true,
           "subunitcolor": "white"
          },
          "hoverlabel": {
           "align": "left"
          },
          "hovermode": "closest",
          "mapbox": {
           "style": "light"
          },
          "paper_bgcolor": "white",
          "plot_bgcolor": "white",
          "polar": {
           "angularaxis": {
            "gridcolor": "rgb(232,232,232)",
            "linecolor": "rgb(36,36,36)",
            "showgrid": false,
            "showline": true,
            "ticks": "outside"
           },
           "bgcolor": "white",
           "radialaxis": {
            "gridcolor": "rgb(232,232,232)",
            "linecolor": "rgb(36,36,36)",
            "showgrid": false,
            "showline": true,
            "ticks": "outside"
           }
          },
          "scene": {
           "xaxis": {
            "backgroundcolor": "white",
            "gridcolor": "rgb(232,232,232)",
            "gridwidth": 2,
            "linecolor": "rgb(36,36,36)",
            "showbackground": true,
            "showgrid": false,
            "showline": true,
            "ticks": "outside",
            "zeroline": false,
            "zerolinecolor": "rgb(36,36,36)"
           },
           "yaxis": {
            "backgroundcolor": "white",
            "gridcolor": "rgb(232,232,232)",
            "gridwidth": 2,
            "linecolor": "rgb(36,36,36)",
            "showbackground": true,
            "showgrid": false,
            "showline": true,
            "ticks": "outside",
            "zeroline": false,
            "zerolinecolor": "rgb(36,36,36)"
           },
           "zaxis": {
            "backgroundcolor": "white",
            "gridcolor": "rgb(232,232,232)",
            "gridwidth": 2,
            "linecolor": "rgb(36,36,36)",
            "showbackground": true,
            "showgrid": false,
            "showline": true,
            "ticks": "outside",
            "zeroline": false,
            "zerolinecolor": "rgb(36,36,36)"
           }
          },
          "shapedefaults": {
           "fillcolor": "black",
           "line": {
            "width": 0
           },
           "opacity": 0.3
          },
          "ternary": {
           "aaxis": {
            "gridcolor": "rgb(232,232,232)",
            "linecolor": "rgb(36,36,36)",
            "showgrid": false,
            "showline": true,
            "ticks": "outside"
           },
           "baxis": {
            "gridcolor": "rgb(232,232,232)",
            "linecolor": "rgb(36,36,36)",
            "showgrid": false,
            "showline": true,
            "ticks": "outside"
           },
           "bgcolor": "white",
           "caxis": {
            "gridcolor": "rgb(232,232,232)",
            "linecolor": "rgb(36,36,36)",
            "showgrid": false,
            "showline": true,
            "ticks": "outside"
           }
          },
          "title": {
           "x": 0.05
          },
          "xaxis": {
           "automargin": true,
           "gridcolor": "rgb(232,232,232)",
           "linecolor": "rgb(36,36,36)",
           "showgrid": false,
           "showline": true,
           "ticks": "outside",
           "title": {
            "standoff": 15
           },
           "zeroline": false,
           "zerolinecolor": "rgb(36,36,36)"
          },
          "yaxis": {
           "automargin": true,
           "gridcolor": "rgb(232,232,232)",
           "linecolor": "rgb(36,36,36)",
           "showgrid": false,
           "showline": true,
           "ticks": "outside",
           "title": {
            "standoff": 15
           },
           "zeroline": false,
           "zerolinecolor": "rgb(36,36,36)"
          }
         }
        },
        "updatemenus": [
         {
          "buttons": [
           {
            "args": [
             null,
             {
              "frame": {
               "duration": 500,
               "redraw": true
              },
              "fromcurrent": true,
              "mode": "immediate",
              "transition": {
               "duration": 500,
               "easing": "linear"
              }
             }
            ],
            "label": "&#9654;",
            "method": "animate"
           },
           {
            "args": [
             [
              null
             ],
             {
              "frame": {
               "duration": 0,
               "redraw": true
              },
              "fromcurrent": true,
              "mode": "immediate",
              "transition": {
               "duration": 0,
               "easing": "linear"
              }
             }
            ],
            "label": "&#9724;",
            "method": "animate"
           }
          ],
          "direction": "left",
          "pad": {
           "r": 10,
           "t": 70
          },
          "showactive": false,
          "type": "buttons",
          "x": 0.1,
          "xanchor": "right",
          "y": 0,
          "yanchor": "top"
         }
        ],
        "xaxis": {
         "anchor": "y",
         "domain": [
          0,
          1
         ],
         "title": {
          "text": "Hopital"
         }
        },
        "yaxis": {
         "anchor": "x",
         "domain": [
          0,
          1
         ],
         "title": {
          "text": "count"
         }
        }
       }
      }
     },
     "metadata": {},
     "output_type": "display_data"
    }
   ],
   "source": [
    "px.histogram(df, x='Hopital', y='Id', histfunc='count', animation_frame='Year', template='simple_white')"
   ]
  },
  {
   "cell_type": "code",
   "execution_count": 188,
   "metadata": {},
   "outputs": [
    {
     "data": {
      "application/vnd.plotly.v1+json": {
       "config": {
        "plotlyServerURL": "https://plot.ly"
       },
       "data": [
        {
         "alignmentgroup": "True",
         "hovertemplate": "Hopital=HEGP<br>Year=%{x}<br>Age=%{y}<extra></extra>",
         "legendgroup": "HEGP",
         "marker": {
          "color": "green",
          "pattern": {
           "shape": ""
          }
         },
         "name": "HEGP",
         "offsetgroup": "HEGP",
         "orientation": "v",
         "showlegend": true,
         "textposition": "auto",
         "type": "bar",
         "x": [
          2015,
          2015,
          2015,
          2015,
          2015,
          2015,
          2016,
          2016,
          2016,
          2016,
          2016,
          2015,
          2016,
          2017,
          2017,
          2017,
          2017,
          2017,
          2017,
          2017,
          2017,
          2018,
          2018,
          2018,
          2018,
          2018,
          2017,
          2018,
          2018,
          2019,
          2019,
          2019,
          2019,
          2019,
          2019,
          2019,
          2019,
          2018,
          2019,
          2020,
          2020,
          2020,
          2020,
          2020,
          2020,
          2015,
          2020,
          2016,
          2018,
          2015,
          2016,
          2015,
          2016,
          2020,
          2020,
          2020,
          2020,
          2020,
          2020,
          2020,
          2020,
          2020,
          2020,
          2020,
          2020,
          2020,
          2020,
          2020,
          2020,
          2019,
          2019,
          2019,
          2019,
          2019,
          2019,
          2019,
          2019,
          2019,
          2019,
          2019,
          2019,
          2018,
          2018,
          2018,
          2018,
          2018,
          2018,
          2018,
          2018,
          2018,
          2018,
          2018,
          2017,
          2017,
          2017,
          2017,
          2017,
          2017,
          2017
         ],
         "xaxis": "x",
         "y": [
          16,
          63,
          19,
          54,
          38,
          45,
          48,
          51,
          65,
          65,
          40,
          39,
          32,
          51,
          49,
          58,
          65,
          52,
          52,
          54,
          62,
          54,
          67,
          59,
          64,
          46,
          57,
          45,
          49,
          17,
          20,
          33,
          54,
          56,
          48,
          28,
          52,
          60,
          66,
          29,
          56,
          26,
          44,
          52,
          50,
          40,
          50,
          53,
          33,
          65,
          62,
          67,
          53,
          40,
          33,
          62,
          27,
          42,
          53,
          62,
          46,
          39,
          52,
          61,
          38,
          63,
          25,
          47,
          61,
          68,
          49,
          21,
          52,
          46,
          39,
          34,
          62,
          31,
          46,
          55,
          57,
          59,
          61,
          39,
          65,
          63,
          63,
          33,
          33,
          62,
          41,
          36,
          59,
          61,
          38,
          42,
          63,
          65,
          65
         ],
         "yaxis": "y"
        },
        {
         "alignmentgroup": "True",
         "hovertemplate": "Hopital=PITIE<br>Year=%{x}<br>Age=%{y}<extra></extra>",
         "legendgroup": "PITIE",
         "marker": {
          "color": "blue",
          "pattern": {
           "shape": ""
          }
         },
         "name": "PITIE",
         "offsetgroup": "PITIE",
         "orientation": "v",
         "showlegend": true,
         "textposition": "auto",
         "type": "bar",
         "x": [
          2015,
          2015,
          2015,
          2015,
          2015,
          2015,
          2015,
          2015,
          2015,
          2015,
          2015,
          2015,
          2015,
          2015,
          2015,
          2015,
          2015,
          2015,
          2015,
          2015,
          2015,
          2015,
          2015,
          2015,
          2015,
          2015,
          2015,
          2015,
          2015,
          2015,
          2015,
          2015,
          2016,
          2016,
          2016,
          2016,
          2016,
          2016,
          2016,
          2016,
          2016,
          2016,
          2016,
          2016,
          2016,
          2016,
          2016,
          2016,
          2016,
          2016,
          2016,
          2016,
          2016,
          2016,
          2016,
          2016,
          2016,
          2016,
          2016,
          2016,
          2016,
          2016,
          2016,
          2016,
          2016,
          2016,
          2016,
          2016,
          2016,
          2016,
          2016,
          2016,
          2017,
          2017,
          2017,
          2017,
          2017,
          2017,
          2017,
          2017,
          2017,
          2017,
          2017,
          2017,
          2017,
          2017,
          2017,
          2017,
          2017,
          2017,
          2017,
          2017,
          2017,
          2017,
          2017,
          2017,
          2017,
          2017,
          2017,
          2017,
          2017,
          2017,
          2017,
          2017,
          2017,
          2017,
          2017,
          2017,
          2017,
          2017,
          2017,
          2017,
          2017,
          2018,
          2018,
          2018,
          2018,
          2018,
          2018,
          2018,
          2018,
          2018,
          2018,
          2018,
          2018,
          2018,
          2018,
          2018,
          2018,
          2018,
          2018,
          2018,
          2018,
          2018,
          2018,
          2018,
          2018,
          2018,
          2018,
          2018,
          2018,
          2018,
          2018,
          2018,
          2018,
          2018,
          2018,
          2018,
          2018,
          2018,
          2018,
          2019,
          2019,
          2019,
          2019,
          2019,
          2019,
          2019,
          2019,
          2019,
          2019,
          2019,
          2019,
          2019,
          2019,
          2019,
          2019,
          2019,
          2019,
          2019,
          2019,
          2019,
          2019,
          2019,
          2019,
          2019,
          2019,
          2019,
          2019,
          2019,
          2019,
          2019,
          2019,
          2019,
          2019,
          2019,
          2020,
          2020,
          2020,
          2020,
          2020,
          2020,
          2020,
          2020,
          2020,
          2020,
          2020,
          2020,
          2020,
          2020,
          2020,
          2020,
          2020,
          2020,
          2020,
          2020,
          2020,
          2020,
          2020,
          2020,
          2020,
          2020,
          2020,
          2020,
          2020,
          2020,
          2020,
          2020,
          2020,
          2020,
          2020,
          2020,
          2020,
          2020,
          2020,
          2020,
          2021,
          2021,
          2021,
          2021,
          2021,
          2021,
          2021,
          2021,
          2021,
          2021,
          2021,
          2021,
          2021,
          2021,
          2021,
          2021,
          2021,
          2021,
          2021,
          2021,
          2021,
          2021,
          2021,
          2021,
          2021,
          2021,
          2021,
          2021,
          2021,
          2021,
          2021,
          2021,
          2021,
          2021,
          2021,
          2021,
          2021,
          2021,
          2021,
          2021,
          2021,
          2021,
          2021,
          2021
         ],
         "xaxis": "x",
         "y": [
          67,
          57,
          55,
          57,
          62,
          44,
          48,
          55,
          65,
          65,
          20,
          52,
          54,
          53,
          59,
          58,
          68,
          57,
          42,
          53,
          61,
          17,
          38,
          53,
          60,
          48,
          49,
          24,
          54,
          41,
          57,
          67,
          60,
          64,
          69,
          46,
          57,
          51,
          64,
          56,
          62,
          67,
          61,
          55,
          35,
          21,
          48,
          67,
          59,
          49,
          62,
          59,
          65,
          39,
          38,
          43,
          49,
          41,
          53,
          58,
          51,
          44,
          62,
          45,
          64,
          36,
          52,
          54,
          17,
          65,
          69,
          25,
          48,
          62,
          53,
          21,
          58,
          66,
          60,
          50,
          73,
          61,
          54,
          52,
          65,
          58,
          58,
          48,
          51,
          51,
          38,
          50,
          47,
          69,
          63,
          67,
          65,
          27,
          27,
          63,
          69,
          65,
          59,
          47,
          42,
          21,
          49,
          55,
          57,
          61,
          65,
          40,
          69,
          56,
          33,
          54,
          45,
          74,
          49,
          44,
          52,
          62,
          50,
          28,
          32,
          68,
          59,
          62,
          53,
          64,
          59,
          59,
          36,
          49,
          54,
          66,
          22,
          34,
          46,
          49,
          27,
          32,
          55,
          32,
          54,
          70,
          49,
          66,
          59,
          65,
          70,
          60,
          57,
          61,
          36,
          48,
          45,
          56,
          42,
          65,
          46,
          45,
          60,
          52,
          57,
          54,
          39,
          54,
          38,
          60,
          35,
          52,
          58,
          28,
          58,
          38,
          47,
          66,
          49,
          58,
          64,
          48,
          68,
          67,
          66,
          67,
          35,
          56,
          53,
          59,
          69,
          51,
          46,
          56,
          51,
          62,
          57,
          31,
          47,
          36,
          66,
          50,
          54,
          40,
          64,
          65,
          65,
          51,
          55,
          40,
          45,
          63,
          36,
          59,
          42,
          40,
          64,
          37,
          71,
          33,
          61,
          44,
          58,
          43,
          58,
          44,
          70,
          59,
          54,
          37,
          55,
          49,
          59,
          54,
          54,
          42,
          60,
          66,
          58,
          63,
          67,
          55,
          50,
          63,
          63,
          65,
          61,
          56,
          50,
          67,
          32,
          45,
          47,
          57,
          55,
          57,
          56,
          48,
          46,
          51,
          48,
          63,
          61,
          63,
          39,
          59,
          64,
          60,
          34,
          41
         ],
         "yaxis": "y"
        },
        {
         "alignmentgroup": "True",
         "hovertemplate": "Hopital=BICHAT<br>Year=%{x}<br>Age=%{y}<extra></extra>",
         "legendgroup": "BICHAT",
         "marker": {
          "color": "red",
          "pattern": {
           "shape": ""
          }
         },
         "name": "BICHAT",
         "offsetgroup": "BICHAT",
         "orientation": "v",
         "showlegend": true,
         "textposition": "auto",
         "type": "bar",
         "x": [
          2015,
          2015,
          2015,
          2015,
          2015,
          2015,
          2015,
          2015,
          2015,
          2015,
          2015,
          2015,
          2015,
          2015,
          2015,
          2015,
          2015,
          2015,
          2016,
          2016,
          2016,
          2016,
          2016,
          2016,
          2016,
          2016,
          2016,
          2016,
          2016,
          2016,
          2016,
          2016,
          2016,
          2016,
          2016,
          2016,
          2016,
          2016,
          2016,
          2016,
          2016,
          2016,
          2016,
          2016,
          2016,
          2016,
          2016,
          2016,
          2016,
          2016,
          2016,
          2016,
          2016,
          2016,
          2016,
          2017,
          2017,
          2017,
          2017,
          2017,
          2017,
          2017,
          2017,
          2017,
          2017,
          2017,
          2017,
          2017,
          2017,
          2017,
          2017,
          2017,
          2017,
          2017,
          2017,
          2017,
          2017,
          2017,
          2017,
          2017,
          2017,
          2017,
          2017,
          2017,
          2017,
          2017,
          2017,
          2017,
          2017,
          2017,
          2017,
          2017,
          2017,
          2017,
          2017,
          2017,
          2018,
          2018,
          2018,
          2018,
          2018,
          2018,
          2018,
          2018,
          2018,
          2018,
          2018,
          2018,
          2018,
          2018,
          2018,
          2018,
          2018,
          2018,
          2018,
          2018,
          2018,
          2018,
          2018,
          2018,
          2018,
          2018,
          2018,
          2018,
          2018,
          2018,
          2018,
          2018,
          2018,
          2018,
          2018,
          2018,
          2018,
          2019,
          2019,
          2019,
          2019,
          2019,
          2019,
          2019,
          2019,
          2019,
          2019,
          2019,
          2019,
          2019,
          2019,
          2019,
          2019,
          2019,
          2019,
          2019,
          2019,
          2019,
          2019,
          2019,
          2019,
          2019,
          2019,
          2019,
          2019,
          2019,
          2019,
          2019,
          2019,
          2019,
          2019,
          2019,
          2019,
          2019,
          2020,
          2020,
          2020,
          2020,
          2020,
          2020,
          2020,
          2020,
          2020,
          2020,
          2020,
          2020,
          2020,
          2020,
          2020,
          2020,
          2020,
          2020,
          2020,
          2020,
          2020,
          2020,
          2020,
          2020,
          2020,
          2020,
          2020,
          2020,
          2020,
          2020,
          2020,
          2020,
          2020,
          2020,
          2020,
          2020,
          2021,
          2021,
          2021,
          2021,
          2021,
          2021,
          2021,
          2021,
          2021,
          2021,
          2021,
          2021,
          2021,
          2021,
          2021,
          2021,
          2021,
          2021,
          2021,
          2021,
          2021,
          2021,
          2021,
          2021,
          2021,
          2016,
          2021,
          2021,
          2021,
          2021,
          2021,
          2021,
          2021,
          2021
         ],
         "xaxis": "x",
         "y": [
          57,
          55,
          67,
          46,
          68,
          54,
          39,
          63,
          59,
          62,
          64,
          67,
          40,
          53,
          66,
          62,
          72,
          55,
          47,
          63,
          58,
          49,
          62,
          48,
          59,
          51,
          46,
          43,
          55,
          59,
          61,
          47,
          37,
          36,
          60,
          45,
          42,
          63,
          48,
          44,
          50,
          50,
          64,
          66,
          17,
          51,
          57,
          41,
          34,
          66,
          45,
          62,
          51,
          35,
          66,
          22,
          63,
          38,
          42,
          55,
          59,
          50,
          63,
          59,
          40,
          56,
          50,
          56,
          17,
          63,
          66,
          40,
          59,
          56,
          60,
          54,
          66,
          57,
          75,
          61,
          60,
          52,
          54,
          53,
          67,
          59,
          46,
          62,
          65,
          27,
          47,
          56,
          50,
          32,
          62,
          61,
          40,
          61,
          62,
          51,
          54,
          56,
          28,
          47,
          64,
          45,
          59,
          21,
          59,
          52,
          52,
          17,
          53,
          60,
          46,
          33,
          61,
          33,
          61,
          71,
          32,
          64,
          66,
          31,
          53,
          53,
          40,
          31,
          68,
          62,
          47,
          64,
          66,
          19,
          60,
          32,
          69,
          53,
          47,
          68,
          22,
          43,
          61,
          36,
          60,
          60,
          49,
          40,
          47,
          67,
          30,
          58,
          48,
          71,
          68,
          60,
          67,
          44,
          40,
          64,
          37,
          64,
          57,
          32,
          28,
          59,
          36,
          66,
          38,
          51,
          62,
          59,
          62,
          46,
          34,
          67,
          56,
          46,
          37,
          66,
          66,
          59,
          51,
          49,
          58,
          48,
          42,
          64,
          49,
          55,
          52,
          57,
          33,
          45,
          38,
          63,
          55,
          65,
          61,
          31,
          27,
          48,
          31,
          60,
          57,
          46,
          71,
          51,
          47,
          43,
          47,
          58,
          61,
          36,
          54,
          52,
          56,
          59,
          58,
          35,
          48,
          39,
          70,
          70,
          60,
          54,
          64,
          65,
          20,
          35,
          60,
          60,
          66,
          61,
          41,
          45,
          66,
          56,
          35,
          53
         ],
         "yaxis": "y"
        }
       ],
       "layout": {
        "barmode": "relative",
        "legend": {
         "title": {
          "text": "Hopital"
         },
         "tracegroupgap": 0
        },
        "margin": {
         "t": 60
        },
        "template": {
         "data": {
          "candlestick": [
           {
            "decreasing": {
             "line": {
              "color": "#000033"
             }
            },
            "increasing": {
             "line": {
              "color": "#000032"
             }
            },
            "type": "candlestick"
           }
          ],
          "contour": [
           {
            "colorscale": [
             [
              0,
              "#000011"
             ],
             [
              0.1111111111111111,
              "#000012"
             ],
             [
              0.2222222222222222,
              "#000013"
             ],
             [
              0.3333333333333333,
              "#000014"
             ],
             [
              0.4444444444444444,
              "#000015"
             ],
             [
              0.5555555555555556,
              "#000016"
             ],
             [
              0.6666666666666666,
              "#000017"
             ],
             [
              0.7777777777777778,
              "#000018"
             ],
             [
              0.8888888888888888,
              "#000019"
             ],
             [
              1,
              "#000020"
             ]
            ],
            "type": "contour"
           }
          ],
          "contourcarpet": [
           {
            "colorscale": [
             [
              0,
              "#000011"
             ],
             [
              0.1111111111111111,
              "#000012"
             ],
             [
              0.2222222222222222,
              "#000013"
             ],
             [
              0.3333333333333333,
              "#000014"
             ],
             [
              0.4444444444444444,
              "#000015"
             ],
             [
              0.5555555555555556,
              "#000016"
             ],
             [
              0.6666666666666666,
              "#000017"
             ],
             [
              0.7777777777777778,
              "#000018"
             ],
             [
              0.8888888888888888,
              "#000019"
             ],
             [
              1,
              "#000020"
             ]
            ],
            "type": "contourcarpet"
           }
          ],
          "heatmap": [
           {
            "colorscale": [
             [
              0,
              "#000011"
             ],
             [
              0.1111111111111111,
              "#000012"
             ],
             [
              0.2222222222222222,
              "#000013"
             ],
             [
              0.3333333333333333,
              "#000014"
             ],
             [
              0.4444444444444444,
              "#000015"
             ],
             [
              0.5555555555555556,
              "#000016"
             ],
             [
              0.6666666666666666,
              "#000017"
             ],
             [
              0.7777777777777778,
              "#000018"
             ],
             [
              0.8888888888888888,
              "#000019"
             ],
             [
              1,
              "#000020"
             ]
            ],
            "type": "heatmap"
           }
          ],
          "histogram2d": [
           {
            "colorscale": [
             [
              0,
              "#000011"
             ],
             [
              0.1111111111111111,
              "#000012"
             ],
             [
              0.2222222222222222,
              "#000013"
             ],
             [
              0.3333333333333333,
              "#000014"
             ],
             [
              0.4444444444444444,
              "#000015"
             ],
             [
              0.5555555555555556,
              "#000016"
             ],
             [
              0.6666666666666666,
              "#000017"
             ],
             [
              0.7777777777777778,
              "#000018"
             ],
             [
              0.8888888888888888,
              "#000019"
             ],
             [
              1,
              "#000020"
             ]
            ],
            "type": "histogram2d"
           }
          ],
          "icicle": [
           {
            "textfont": {
             "color": "white"
            },
            "type": "icicle"
           }
          ],
          "sankey": [
           {
            "textfont": {
             "color": "#000036"
            },
            "type": "sankey"
           }
          ],
          "scatter": [
           {
            "marker": {
             "line": {
              "width": 0
             }
            },
            "type": "scatter"
           }
          ],
          "table": [
           {
            "cells": {
             "fill": {
              "color": "#000038"
             },
             "font": {
              "color": "#000037"
             },
             "line": {
              "color": "#000039"
             }
            },
            "header": {
             "fill": {
              "color": "#000040"
             },
             "font": {
              "color": "#000036"
             },
             "line": {
              "color": "#000039"
             }
            },
            "type": "table"
           }
          ],
          "waterfall": [
           {
            "connector": {
             "line": {
              "color": "#000036",
              "width": 2
             }
            },
            "decreasing": {
             "marker": {
              "color": "#000033"
             }
            },
            "increasing": {
             "marker": {
              "color": "#000032"
             }
            },
            "totals": {
             "marker": {
              "color": "#000034"
             }
            },
            "type": "waterfall"
           }
          ]
         },
         "layout": {
          "coloraxis": {
           "colorscale": [
            [
             0,
             "#000011"
            ],
            [
             0.1111111111111111,
             "#000012"
            ],
            [
             0.2222222222222222,
             "#000013"
            ],
            [
             0.3333333333333333,
             "#000014"
            ],
            [
             0.4444444444444444,
             "#000015"
            ],
            [
             0.5555555555555556,
             "#000016"
            ],
            [
             0.6666666666666666,
             "#000017"
            ],
            [
             0.7777777777777778,
             "#000018"
            ],
            [
             0.8888888888888888,
             "#000019"
            ],
            [
             1,
             "#000020"
            ]
           ]
          },
          "colorscale": {
           "diverging": [
            [
             0,
             "#000021"
            ],
            [
             0.1,
             "#000022"
            ],
            [
             0.2,
             "#000023"
            ],
            [
             0.3,
             "#000024"
            ],
            [
             0.4,
             "#000025"
            ],
            [
             0.5,
             "#000026"
            ],
            [
             0.6,
             "#000027"
            ],
            [
             0.7,
             "#000028"
            ],
            [
             0.8,
             "#000029"
            ],
            [
             0.9,
             "#000030"
            ],
            [
             1,
             "#000031"
            ]
           ],
           "sequential": [
            [
             0,
             "#000011"
            ],
            [
             0.1111111111111111,
             "#000012"
            ],
            [
             0.2222222222222222,
             "#000013"
            ],
            [
             0.3333333333333333,
             "#000014"
            ],
            [
             0.4444444444444444,
             "#000015"
            ],
            [
             0.5555555555555556,
             "#000016"
            ],
            [
             0.6666666666666666,
             "#000017"
            ],
            [
             0.7777777777777778,
             "#000018"
            ],
            [
             0.8888888888888888,
             "#000019"
            ],
            [
             1,
             "#000020"
            ]
           ],
           "sequentialminus": [
            [
             0,
             "#000011"
            ],
            [
             0.1111111111111111,
             "#000012"
            ],
            [
             0.2222222222222222,
             "#000013"
            ],
            [
             0.3333333333333333,
             "#000014"
            ],
            [
             0.4444444444444444,
             "#000015"
            ],
            [
             0.5555555555555556,
             "#000016"
            ],
            [
             0.6666666666666666,
             "#000017"
            ],
            [
             0.7777777777777778,
             "#000018"
            ],
            [
             0.8888888888888888,
             "#000019"
            ],
            [
             1,
             "#000020"
            ]
           ]
          },
          "colorway": [
           "#000001",
           "#000002",
           "#000003",
           "#000004",
           "#000005",
           "#000006",
           "#000007",
           "#000008",
           "#000009",
           "#000010"
          ]
         }
        },
        "xaxis": {
         "anchor": "y",
         "domain": [
          0,
          1
         ],
         "title": {
          "text": "Year"
         }
        },
        "yaxis": {
         "anchor": "x",
         "domain": [
          0,
          1
         ],
         "title": {
          "text": "Age"
         }
        }
       }
      }
     },
     "metadata": {},
     "output_type": "display_data"
    }
   ],
   "source": [
    "fig = px.bar(data_frame=df, x=\"Year\", y=\"Age\", color=\"Hopital\", color_discrete_map={\"BICHAT\": \"red\",\"HEGP\": \"green\",\"PITIE\": \"blue\"})\n",
    "fig.show()"
   ]
  },
  {
   "cell_type": "code",
   "execution_count": 187,
   "metadata": {},
   "outputs": [
    {
     "data": {
      "application/vnd.plotly.v1+json": {
       "config": {
        "plotlyServerURL": "https://plot.ly"
       },
       "data": [
        {
         "hovertemplate": "Hopital=HEGP<br>Age=%{x}<br>Hb_preop=%{y}<extra></extra>",
         "legendgroup": "HEGP",
         "marker": {
          "color": "green",
          "symbol": "circle"
         },
         "mode": "markers",
         "name": "HEGP",
         "orientation": "v",
         "showlegend": true,
         "type": "scatter",
         "x": [
          16,
          63,
          19,
          54,
          38,
          45,
          48,
          51,
          65,
          65,
          40,
          39,
          32,
          51,
          49,
          58,
          65,
          52,
          52,
          54,
          62,
          54,
          67,
          59,
          64,
          46,
          57,
          45,
          49,
          17,
          20,
          33,
          54,
          56,
          48,
          28,
          52,
          60,
          66,
          29,
          56,
          26,
          44,
          52,
          50,
          40,
          50,
          53,
          33,
          65,
          62,
          67,
          53,
          40,
          33,
          62,
          27,
          42,
          53,
          62,
          46,
          39,
          52,
          61,
          38,
          63,
          25,
          47,
          61,
          68,
          49,
          21,
          52,
          46,
          39,
          34,
          62,
          31,
          46,
          55,
          57,
          59,
          61,
          39,
          65,
          63,
          63,
          33,
          33,
          62,
          41,
          36,
          59,
          61,
          38,
          42,
          63,
          65,
          65
         ],
         "xaxis": "x",
         "y": [
          null,
          8.7,
          12.2,
          12.3,
          14.9,
          10.4,
          11.5,
          12.7,
          13.2,
          11.3,
          13.6,
          10.3,
          11.2,
          8.5,
          9.7,
          11.9,
          10.8,
          10.5,
          8.3,
          12.4,
          11.2,
          11.5,
          10.2,
          10.6,
          10.4,
          9.4,
          13.2,
          11.6,
          11.4,
          15,
          7.8,
          15.5,
          10.5,
          12.2,
          10.3,
          10.7,
          14.4,
          12.6,
          12.5,
          11.8,
          10.4,
          8.6,
          10.5,
          9,
          9.8,
          13.9,
          11.7,
          13.4,
          12.8,
          8.7,
          8.1,
          14.8,
          11.6,
          13.9,
          14.7,
          13.2,
          14.6,
          15.3,
          9.7,
          15,
          13.7,
          12.8,
          12.3,
          8.8,
          9,
          13.1,
          14,
          10,
          12.9,
          17.6,
          14.7,
          16.5,
          11.2,
          11.1,
          10.7,
          12.7,
          14.2,
          21.7,
          15,
          12.2,
          11.2,
          13.4,
          13.1,
          9.1,
          12.2,
          10.9,
          11.9,
          10.2,
          10.1,
          15.2,
          13.4,
          14.7,
          12.8,
          12.3,
          12.9,
          12.7,
          16.6,
          11.6,
          14.2
         ],
         "yaxis": "y"
        },
        {
         "hovertemplate": "Hopital=PITIE<br>Age=%{x}<br>Hb_preop=%{y}<extra></extra>",
         "legendgroup": "PITIE",
         "marker": {
          "color": "blue",
          "symbol": "circle"
         },
         "mode": "markers",
         "name": "PITIE",
         "orientation": "v",
         "showlegend": true,
         "type": "scatter",
         "x": [
          67,
          57,
          55,
          57,
          62,
          44,
          48,
          55,
          65,
          65,
          20,
          52,
          54,
          53,
          59,
          58,
          68,
          57,
          42,
          53,
          61,
          17,
          38,
          53,
          60,
          48,
          49,
          24,
          54,
          41,
          57,
          67,
          60,
          64,
          69,
          46,
          57,
          51,
          64,
          56,
          62,
          67,
          61,
          55,
          35,
          21,
          48,
          67,
          59,
          49,
          62,
          59,
          65,
          39,
          38,
          43,
          49,
          41,
          53,
          58,
          51,
          44,
          62,
          45,
          64,
          36,
          52,
          54,
          17,
          65,
          69,
          25,
          48,
          62,
          53,
          21,
          58,
          66,
          60,
          50,
          73,
          61,
          54,
          52,
          65,
          58,
          58,
          48,
          51,
          51,
          38,
          50,
          47,
          69,
          63,
          67,
          65,
          27,
          27,
          63,
          69,
          65,
          59,
          47,
          42,
          21,
          49,
          55,
          57,
          61,
          65,
          40,
          69,
          56,
          33,
          54,
          45,
          74,
          49,
          44,
          52,
          62,
          50,
          28,
          32,
          68,
          59,
          62,
          53,
          64,
          59,
          59,
          36,
          49,
          54,
          66,
          22,
          34,
          46,
          49,
          27,
          32,
          55,
          32,
          54,
          70,
          49,
          66,
          59,
          65,
          70,
          60,
          57,
          61,
          36,
          48,
          45,
          56,
          42,
          65,
          46,
          45,
          60,
          52,
          57,
          54,
          39,
          54,
          38,
          60,
          35,
          52,
          58,
          28,
          58,
          38,
          47,
          66,
          49,
          58,
          64,
          48,
          68,
          67,
          66,
          67,
          35,
          56,
          53,
          59,
          69,
          51,
          46,
          56,
          51,
          62,
          57,
          31,
          47,
          36,
          66,
          50,
          54,
          40,
          64,
          65,
          65,
          51,
          55,
          40,
          45,
          63,
          36,
          59,
          42,
          40,
          64,
          37,
          71,
          33,
          61,
          44,
          58,
          43,
          58,
          44,
          70,
          59,
          54,
          37,
          55,
          49,
          59,
          54,
          54,
          42,
          60,
          66,
          58,
          63,
          67,
          55,
          50,
          63,
          63,
          65,
          61,
          56,
          50,
          67,
          32,
          45,
          47,
          57,
          55,
          57,
          56,
          48,
          46,
          51,
          48,
          63,
          61,
          63,
          39,
          59,
          64,
          60,
          34,
          41
         ],
         "xaxis": "x",
         "y": [
          15.7,
          8.5,
          9.7,
          11.9,
          12.5,
          15.4,
          11,
          9.7,
          9.6,
          10.2,
          11,
          12.3,
          11.2,
          10.7,
          10.7,
          8.9,
          11.5,
          10.2,
          9.1,
          16.1,
          12.2,
          11.5,
          9.4,
          13.4,
          15.4,
          10,
          11.5,
          9.4,
          11.1,
          9.8,
          13.8,
          12.3,
          11.6,
          11.7,
          12,
          12.6,
          16.1,
          10.4,
          12.6,
          11.9,
          14.4,
          13.3,
          12.3,
          14.1,
          12,
          10.1,
          14.6,
          8.9,
          13.1,
          10.8,
          13.2,
          11.6,
          12.5,
          11.5,
          9.3,
          16.1,
          8.3,
          9.4,
          14.1,
          13.2,
          11.3,
          16.2,
          11.9,
          10.3,
          12.8,
          15.7,
          8.6,
          9.3,
          14.9,
          13.4,
          11.2,
          10.1,
          15.7,
          10.6,
          11,
          14.8,
          12.8,
          12.5,
          15,
          13.5,
          11.7,
          12.3,
          12.4,
          12.5,
          14,
          12.9,
          13.3,
          13.9,
          9.8,
          12.1,
          10.9,
          13.7,
          13.1,
          13.8,
          11.2,
          15.9,
          10.4,
          16.4,
          17.3,
          13.1,
          12.7,
          11,
          11,
          12.5,
          9.8,
          14,
          12.5,
          11.8,
          16.8,
          13.5,
          8.9,
          18.4,
          13,
          11.7,
          10.9,
          16.5,
          12.6,
          13.1,
          13.7,
          15.2,
          13.6,
          14.3,
          10.6,
          12.4,
          14.5,
          12.2,
          9.4,
          11.2,
          13.9,
          15.1,
          9.4,
          12.5,
          9.3,
          13.5,
          12.9,
          11.7,
          15.2,
          13.5,
          8.1,
          8.7,
          11.9,
          14,
          9.8,
          11.1,
          9,
          10,
          12.9,
          14.8,
          12.8,
          12.3,
          8.8,
          10.6,
          8.5,
          10.4,
          8.1,
          7.9,
          7.5,
          8,
          7.7,
          10.1,
          9,
          8,
          9.8,
          15.5,
          9.2,
          12.6,
          12.5,
          12.8,
          11.7,
          15.5,
          9.7,
          10.1,
          12.5,
          13,
          7.3,
          12.9,
          10.8,
          13.4,
          13.9,
          7.1,
          14.4,
          9.5,
          12.3,
          13,
          11.2,
          11.6,
          13.8,
          10.6,
          12.3,
          8.8,
          7.8,
          10.8,
          8.8,
          13.5,
          9.7,
          9.5,
          13.8,
          11.3,
          13.9,
          7.5,
          11.6,
          8.6,
          13.4,
          12.6,
          8.3,
          9.3,
          7.1,
          9.6,
          9.6,
          11.6,
          12.8,
          15.2,
          14.2,
          8.6,
          16.5,
          9.6,
          11.5,
          10.7,
          7.8,
          13.9,
          9.6,
          14.2,
          12.8,
          12,
          9.3,
          13.3,
          13.3,
          9.7,
          12.7,
          10,
          11,
          12,
          10.8,
          12.2,
          12.7,
          14,
          17,
          15,
          14,
          9,
          8,
          10,
          15,
          12.8,
          15,
          13.5,
          10,
          14.6,
          6.9,
          7,
          13.3,
          10,
          11.5,
          10.4,
          11.1,
          11.5,
          15.3,
          13.9,
          10.2,
          14.1,
          11,
          8,
          13.3,
          12.8,
          12.2,
          12.5,
          11,
          15,
          13.4,
          9.9
         ],
         "yaxis": "y"
        },
        {
         "hovertemplate": "Hopital=BICHAT<br>Age=%{x}<br>Hb_preop=%{y}<extra></extra>",
         "legendgroup": "BICHAT",
         "marker": {
          "color": "red",
          "symbol": "circle"
         },
         "mode": "markers",
         "name": "BICHAT",
         "orientation": "v",
         "showlegend": true,
         "type": "scatter",
         "x": [
          57,
          55,
          67,
          46,
          68,
          54,
          39,
          63,
          59,
          62,
          64,
          67,
          40,
          53,
          66,
          62,
          72,
          55,
          47,
          63,
          58,
          49,
          62,
          48,
          59,
          51,
          46,
          43,
          55,
          59,
          61,
          47,
          37,
          36,
          60,
          45,
          42,
          63,
          48,
          44,
          50,
          50,
          64,
          66,
          17,
          51,
          57,
          41,
          34,
          66,
          45,
          62,
          51,
          35,
          66,
          22,
          63,
          38,
          42,
          55,
          59,
          50,
          63,
          59,
          40,
          56,
          50,
          56,
          17,
          63,
          66,
          40,
          59,
          56,
          60,
          54,
          66,
          57,
          75,
          61,
          60,
          52,
          54,
          53,
          67,
          59,
          46,
          62,
          65,
          27,
          47,
          56,
          50,
          32,
          62,
          61,
          40,
          61,
          62,
          51,
          54,
          56,
          28,
          47,
          64,
          45,
          59,
          21,
          59,
          52,
          52,
          17,
          53,
          60,
          46,
          33,
          61,
          33,
          61,
          71,
          32,
          64,
          66,
          31,
          53,
          53,
          40,
          31,
          68,
          62,
          47,
          64,
          66,
          19,
          60,
          32,
          69,
          53,
          47,
          68,
          22,
          43,
          61,
          36,
          60,
          60,
          49,
          40,
          47,
          67,
          30,
          58,
          48,
          71,
          68,
          60,
          67,
          44,
          40,
          64,
          37,
          64,
          57,
          32,
          28,
          59,
          36,
          66,
          38,
          51,
          62,
          59,
          62,
          46,
          34,
          67,
          56,
          46,
          37,
          66,
          66,
          59,
          51,
          49,
          58,
          48,
          42,
          64,
          49,
          55,
          52,
          57,
          33,
          45,
          38,
          63,
          55,
          65,
          61,
          31,
          27,
          48,
          31,
          60,
          57,
          46,
          71,
          51,
          47,
          43,
          47,
          58,
          61,
          36,
          54,
          52,
          56,
          59,
          58,
          35,
          48,
          39,
          70,
          70,
          60,
          54,
          64,
          65,
          20,
          35,
          60,
          60,
          66,
          61,
          41,
          45,
          66,
          56,
          35,
          53
         ],
         "xaxis": "x",
         "y": [
          12.4,
          13,
          null,
          11.4,
          11,
          13,
          8.3,
          9.5,
          8.4,
          10.5,
          null,
          null,
          10.8,
          8.5,
          13.9,
          12,
          12.6,
          14.7,
          13.8,
          14.7,
          10.7,
          13.7,
          13.7,
          11.4,
          13.3,
          14.6,
          13.7,
          12.1,
          12,
          11,
          13,
          10.5,
          14.7,
          7.8,
          10.7,
          11.8,
          9,
          13.7,
          7.5,
          12.1,
          14.6,
          11.4,
          11.8,
          11.7,
          8.4,
          8.6,
          6.5,
          13.7,
          13.7,
          9.3,
          14.3,
          12,
          13.5,
          8.2,
          8.1,
          12,
          12.5,
          13.7,
          13,
          10,
          8.5,
          12.5,
          15.6,
          12,
          10.4,
          14.4,
          null,
          14.4,
          9.2,
          9.4,
          16,
          null,
          null,
          12.5,
          null,
          10.2,
          10.2,
          12.1,
          10.4,
          9.5,
          11.7,
          12.4,
          9.9,
          11.2,
          9.7,
          13.9,
          6.8,
          8.9,
          13.5,
          11.1,
          10.2,
          13.2,
          11.6,
          12.3,
          8.3,
          13.2,
          13.3,
          15,
          8.5,
          12.1,
          8.7,
          8.5,
          12.4,
          10,
          9.3,
          9.4,
          11.4,
          13.2,
          12.1,
          12.2,
          9.4,
          8.4,
          14.6,
          16.5,
          8.7,
          8.7,
          10.5,
          8.5,
          7.7,
          null,
          7.3,
          13.1,
          9.4,
          9.6,
          12.8,
          8.3,
          10.9,
          10,
          12.1,
          11,
          8.3,
          10.1,
          7.8,
          9.1,
          12.1,
          12.2,
          12.1,
          11.4,
          14.5,
          8.7,
          11,
          12.2,
          17.7,
          8.6,
          9.9,
          13.4,
          10.2,
          8.8,
          12,
          13,
          13.9,
          11.5,
          13.8,
          13.4,
          12.5,
          12.4,
          12.1,
          13.2,
          10.4,
          14.1,
          8.3,
          13.3,
          14.4,
          11,
          15.4,
          15.2,
          11,
          15.3,
          12.5,
          7.5,
          7.8,
          7.7,
          8.4,
          8.7,
          8.3,
          13.7,
          8.7,
          13.5,
          8,
          8.6,
          12.3,
          12.5,
          17.2,
          7.7,
          8.9,
          13.5,
          10.5,
          15.9,
          15.3,
          16.8,
          7.5,
          13.4,
          11.7,
          15,
          12.4,
          11.3,
          10.4,
          13.6,
          10.6,
          14.2,
          8.7,
          10.3,
          10.4,
          13.6,
          12,
          9.8,
          13.7,
          8.2,
          7.6,
          8.8,
          10.4,
          10.5,
          14.4,
          7.5,
          9.8,
          9.4,
          11.5,
          12.8,
          12,
          8.7,
          11.4,
          12.6,
          9,
          9.1,
          12,
          13.3,
          12.1,
          11.6,
          16.8,
          14,
          11,
          13.5,
          12,
          9.5,
          15.8,
          9,
          12.5,
          7.5,
          13.5,
          13
         ],
         "yaxis": "y"
        }
       ],
       "layout": {
        "legend": {
         "title": {
          "text": "Hopital"
         },
         "tracegroupgap": 0
        },
        "margin": {
         "t": 60
        },
        "template": {
         "data": {
          "candlestick": [
           {
            "decreasing": {
             "line": {
              "color": "#000033"
             }
            },
            "increasing": {
             "line": {
              "color": "#000032"
             }
            },
            "type": "candlestick"
           }
          ],
          "contour": [
           {
            "colorscale": [
             [
              0,
              "#000011"
             ],
             [
              0.1111111111111111,
              "#000012"
             ],
             [
              0.2222222222222222,
              "#000013"
             ],
             [
              0.3333333333333333,
              "#000014"
             ],
             [
              0.4444444444444444,
              "#000015"
             ],
             [
              0.5555555555555556,
              "#000016"
             ],
             [
              0.6666666666666666,
              "#000017"
             ],
             [
              0.7777777777777778,
              "#000018"
             ],
             [
              0.8888888888888888,
              "#000019"
             ],
             [
              1,
              "#000020"
             ]
            ],
            "type": "contour"
           }
          ],
          "contourcarpet": [
           {
            "colorscale": [
             [
              0,
              "#000011"
             ],
             [
              0.1111111111111111,
              "#000012"
             ],
             [
              0.2222222222222222,
              "#000013"
             ],
             [
              0.3333333333333333,
              "#000014"
             ],
             [
              0.4444444444444444,
              "#000015"
             ],
             [
              0.5555555555555556,
              "#000016"
             ],
             [
              0.6666666666666666,
              "#000017"
             ],
             [
              0.7777777777777778,
              "#000018"
             ],
             [
              0.8888888888888888,
              "#000019"
             ],
             [
              1,
              "#000020"
             ]
            ],
            "type": "contourcarpet"
           }
          ],
          "heatmap": [
           {
            "colorscale": [
             [
              0,
              "#000011"
             ],
             [
              0.1111111111111111,
              "#000012"
             ],
             [
              0.2222222222222222,
              "#000013"
             ],
             [
              0.3333333333333333,
              "#000014"
             ],
             [
              0.4444444444444444,
              "#000015"
             ],
             [
              0.5555555555555556,
              "#000016"
             ],
             [
              0.6666666666666666,
              "#000017"
             ],
             [
              0.7777777777777778,
              "#000018"
             ],
             [
              0.8888888888888888,
              "#000019"
             ],
             [
              1,
              "#000020"
             ]
            ],
            "type": "heatmap"
           }
          ],
          "histogram2d": [
           {
            "colorscale": [
             [
              0,
              "#000011"
             ],
             [
              0.1111111111111111,
              "#000012"
             ],
             [
              0.2222222222222222,
              "#000013"
             ],
             [
              0.3333333333333333,
              "#000014"
             ],
             [
              0.4444444444444444,
              "#000015"
             ],
             [
              0.5555555555555556,
              "#000016"
             ],
             [
              0.6666666666666666,
              "#000017"
             ],
             [
              0.7777777777777778,
              "#000018"
             ],
             [
              0.8888888888888888,
              "#000019"
             ],
             [
              1,
              "#000020"
             ]
            ],
            "type": "histogram2d"
           }
          ],
          "icicle": [
           {
            "textfont": {
             "color": "white"
            },
            "type": "icicle"
           }
          ],
          "sankey": [
           {
            "textfont": {
             "color": "#000036"
            },
            "type": "sankey"
           }
          ],
          "scatter": [
           {
            "marker": {
             "line": {
              "width": 0
             }
            },
            "type": "scatter"
           }
          ],
          "table": [
           {
            "cells": {
             "fill": {
              "color": "#000038"
             },
             "font": {
              "color": "#000037"
             },
             "line": {
              "color": "#000039"
             }
            },
            "header": {
             "fill": {
              "color": "#000040"
             },
             "font": {
              "color": "#000036"
             },
             "line": {
              "color": "#000039"
             }
            },
            "type": "table"
           }
          ],
          "waterfall": [
           {
            "connector": {
             "line": {
              "color": "#000036",
              "width": 2
             }
            },
            "decreasing": {
             "marker": {
              "color": "#000033"
             }
            },
            "increasing": {
             "marker": {
              "color": "#000032"
             }
            },
            "totals": {
             "marker": {
              "color": "#000034"
             }
            },
            "type": "waterfall"
           }
          ]
         },
         "layout": {
          "coloraxis": {
           "colorscale": [
            [
             0,
             "#000011"
            ],
            [
             0.1111111111111111,
             "#000012"
            ],
            [
             0.2222222222222222,
             "#000013"
            ],
            [
             0.3333333333333333,
             "#000014"
            ],
            [
             0.4444444444444444,
             "#000015"
            ],
            [
             0.5555555555555556,
             "#000016"
            ],
            [
             0.6666666666666666,
             "#000017"
            ],
            [
             0.7777777777777778,
             "#000018"
            ],
            [
             0.8888888888888888,
             "#000019"
            ],
            [
             1,
             "#000020"
            ]
           ]
          },
          "colorscale": {
           "diverging": [
            [
             0,
             "#000021"
            ],
            [
             0.1,
             "#000022"
            ],
            [
             0.2,
             "#000023"
            ],
            [
             0.3,
             "#000024"
            ],
            [
             0.4,
             "#000025"
            ],
            [
             0.5,
             "#000026"
            ],
            [
             0.6,
             "#000027"
            ],
            [
             0.7,
             "#000028"
            ],
            [
             0.8,
             "#000029"
            ],
            [
             0.9,
             "#000030"
            ],
            [
             1,
             "#000031"
            ]
           ],
           "sequential": [
            [
             0,
             "#000011"
            ],
            [
             0.1111111111111111,
             "#000012"
            ],
            [
             0.2222222222222222,
             "#000013"
            ],
            [
             0.3333333333333333,
             "#000014"
            ],
            [
             0.4444444444444444,
             "#000015"
            ],
            [
             0.5555555555555556,
             "#000016"
            ],
            [
             0.6666666666666666,
             "#000017"
            ],
            [
             0.7777777777777778,
             "#000018"
            ],
            [
             0.8888888888888888,
             "#000019"
            ],
            [
             1,
             "#000020"
            ]
           ],
           "sequentialminus": [
            [
             0,
             "#000011"
            ],
            [
             0.1111111111111111,
             "#000012"
            ],
            [
             0.2222222222222222,
             "#000013"
            ],
            [
             0.3333333333333333,
             "#000014"
            ],
            [
             0.4444444444444444,
             "#000015"
            ],
            [
             0.5555555555555556,
             "#000016"
            ],
            [
             0.6666666666666666,
             "#000017"
            ],
            [
             0.7777777777777778,
             "#000018"
            ],
            [
             0.8888888888888888,
             "#000019"
            ],
            [
             1,
             "#000020"
            ]
           ]
          },
          "colorway": [
           "#000001",
           "#000002",
           "#000003",
           "#000004",
           "#000005",
           "#000006",
           "#000007",
           "#000008",
           "#000009",
           "#000010"
          ]
         }
        },
        "xaxis": {
         "anchor": "y",
         "domain": [
          0,
          1
         ],
         "title": {
          "text": "Age"
         }
        },
        "yaxis": {
         "anchor": "x",
         "domain": [
          0,
          1
         ],
         "title": {
          "text": "Hb_preop"
         }
        }
       }
      }
     },
     "metadata": {},
     "output_type": "display_data"
    }
   ],
   "source": [
    "fig = px.scatter(data_frame=df, x=\"Age\", y=\"Hb_preop\", color=\"Hopital\", color_discrete_map={\"BICHAT\": \"red\",\"HEGP\": \"green\",\"PITIE\": \"blue\"})\n",
    "fig.show()"
   ]
  },
  {
   "cell_type": "code",
   "execution_count": 209,
   "metadata": {},
   "outputs": [
    {
     "data": {
      "application/vnd.plotly.v1+json": {
       "config": {
        "plotlyServerURL": "https://plot.ly"
       },
       "data": [
        {
         "alignmentgroup": "True",
         "hovertemplate": "Hopital=%{x}<br>Age=%{y}<extra></extra>",
         "legendgroup": "HEGP",
         "marker": {
          "color": "green"
         },
         "name": "HEGP",
         "notched": true,
         "offsetgroup": "HEGP",
         "orientation": "v",
         "showlegend": true,
         "type": "box",
         "x": [
          "HEGP",
          "HEGP",
          "HEGP",
          "HEGP",
          "HEGP",
          "HEGP",
          "HEGP",
          "HEGP",
          "HEGP",
          "HEGP",
          "HEGP",
          "HEGP",
          "HEGP",
          "HEGP",
          "HEGP",
          "HEGP",
          "HEGP",
          "HEGP",
          "HEGP",
          "HEGP",
          "HEGP",
          "HEGP",
          "HEGP",
          "HEGP",
          "HEGP",
          "HEGP",
          "HEGP",
          "HEGP",
          "HEGP",
          "HEGP",
          "HEGP",
          "HEGP",
          "HEGP",
          "HEGP",
          "HEGP",
          "HEGP",
          "HEGP",
          "HEGP",
          "HEGP",
          "HEGP",
          "HEGP",
          "HEGP",
          "HEGP",
          "HEGP",
          "HEGP",
          "HEGP",
          "HEGP",
          "HEGP",
          "HEGP",
          "HEGP",
          "HEGP",
          "HEGP",
          "HEGP",
          "HEGP",
          "HEGP",
          "HEGP",
          "HEGP",
          "HEGP",
          "HEGP",
          "HEGP",
          "HEGP",
          "HEGP",
          "HEGP",
          "HEGP",
          "HEGP",
          "HEGP",
          "HEGP",
          "HEGP",
          "HEGP",
          "HEGP",
          "HEGP",
          "HEGP",
          "HEGP",
          "HEGP",
          "HEGP",
          "HEGP",
          "HEGP",
          "HEGP",
          "HEGP",
          "HEGP",
          "HEGP",
          "HEGP",
          "HEGP",
          "HEGP",
          "HEGP",
          "HEGP",
          "HEGP",
          "HEGP",
          "HEGP",
          "HEGP",
          "HEGP",
          "HEGP",
          "HEGP",
          "HEGP",
          "HEGP",
          "HEGP",
          "HEGP",
          "HEGP",
          "HEGP"
         ],
         "x0": " ",
         "xaxis": "x",
         "y": [
          16,
          63,
          19,
          54,
          38,
          45,
          48,
          51,
          65,
          65,
          40,
          39,
          32,
          51,
          49,
          58,
          65,
          52,
          52,
          54,
          62,
          54,
          67,
          59,
          64,
          46,
          57,
          45,
          49,
          17,
          20,
          33,
          54,
          56,
          48,
          28,
          52,
          60,
          66,
          29,
          56,
          26,
          44,
          52,
          50,
          40,
          50,
          53,
          33,
          65,
          62,
          67,
          53,
          40,
          33,
          62,
          27,
          42,
          53,
          62,
          46,
          39,
          52,
          61,
          38,
          63,
          25,
          47,
          61,
          68,
          49,
          21,
          52,
          46,
          39,
          34,
          62,
          31,
          46,
          55,
          57,
          59,
          61,
          39,
          65,
          63,
          63,
          33,
          33,
          62,
          41,
          36,
          59,
          61,
          38,
          42,
          63,
          65,
          65
         ],
         "y0": " ",
         "yaxis": "y"
        },
        {
         "alignmentgroup": "True",
         "hovertemplate": "Hopital=%{x}<br>Age=%{y}<extra></extra>",
         "legendgroup": "PITIE",
         "marker": {
          "color": "blue"
         },
         "name": "PITIE",
         "notched": true,
         "offsetgroup": "PITIE",
         "orientation": "v",
         "showlegend": true,
         "type": "box",
         "x": [
          "PITIE",
          "PITIE",
          "PITIE",
          "PITIE",
          "PITIE",
          "PITIE",
          "PITIE",
          "PITIE",
          "PITIE",
          "PITIE",
          "PITIE",
          "PITIE",
          "PITIE",
          "PITIE",
          "PITIE",
          "PITIE",
          "PITIE",
          "PITIE",
          "PITIE",
          "PITIE",
          "PITIE",
          "PITIE",
          "PITIE",
          "PITIE",
          "PITIE",
          "PITIE",
          "PITIE",
          "PITIE",
          "PITIE",
          "PITIE",
          "PITIE",
          "PITIE",
          "PITIE",
          "PITIE",
          "PITIE",
          "PITIE",
          "PITIE",
          "PITIE",
          "PITIE",
          "PITIE",
          "PITIE",
          "PITIE",
          "PITIE",
          "PITIE",
          "PITIE",
          "PITIE",
          "PITIE",
          "PITIE",
          "PITIE",
          "PITIE",
          "PITIE",
          "PITIE",
          "PITIE",
          "PITIE",
          "PITIE",
          "PITIE",
          "PITIE",
          "PITIE",
          "PITIE",
          "PITIE",
          "PITIE",
          "PITIE",
          "PITIE",
          "PITIE",
          "PITIE",
          "PITIE",
          "PITIE",
          "PITIE",
          "PITIE",
          "PITIE",
          "PITIE",
          "PITIE",
          "PITIE",
          "PITIE",
          "PITIE",
          "PITIE",
          "PITIE",
          "PITIE",
          "PITIE",
          "PITIE",
          "PITIE",
          "PITIE",
          "PITIE",
          "PITIE",
          "PITIE",
          "PITIE",
          "PITIE",
          "PITIE",
          "PITIE",
          "PITIE",
          "PITIE",
          "PITIE",
          "PITIE",
          "PITIE",
          "PITIE",
          "PITIE",
          "PITIE",
          "PITIE",
          "PITIE",
          "PITIE",
          "PITIE",
          "PITIE",
          "PITIE",
          "PITIE",
          "PITIE",
          "PITIE",
          "PITIE",
          "PITIE",
          "PITIE",
          "PITIE",
          "PITIE",
          "PITIE",
          "PITIE",
          "PITIE",
          "PITIE",
          "PITIE",
          "PITIE",
          "PITIE",
          "PITIE",
          "PITIE",
          "PITIE",
          "PITIE",
          "PITIE",
          "PITIE",
          "PITIE",
          "PITIE",
          "PITIE",
          "PITIE",
          "PITIE",
          "PITIE",
          "PITIE",
          "PITIE",
          "PITIE",
          "PITIE",
          "PITIE",
          "PITIE",
          "PITIE",
          "PITIE",
          "PITIE",
          "PITIE",
          "PITIE",
          "PITIE",
          "PITIE",
          "PITIE",
          "PITIE",
          "PITIE",
          "PITIE",
          "PITIE",
          "PITIE",
          "PITIE",
          "PITIE",
          "PITIE",
          "PITIE",
          "PITIE",
          "PITIE",
          "PITIE",
          "PITIE",
          "PITIE",
          "PITIE",
          "PITIE",
          "PITIE",
          "PITIE",
          "PITIE",
          "PITIE",
          "PITIE",
          "PITIE",
          "PITIE",
          "PITIE",
          "PITIE",
          "PITIE",
          "PITIE",
          "PITIE",
          "PITIE",
          "PITIE",
          "PITIE",
          "PITIE",
          "PITIE",
          "PITIE",
          "PITIE",
          "PITIE",
          "PITIE",
          "PITIE",
          "PITIE",
          "PITIE",
          "PITIE",
          "PITIE",
          "PITIE",
          "PITIE",
          "PITIE",
          "PITIE",
          "PITIE",
          "PITIE",
          "PITIE",
          "PITIE",
          "PITIE",
          "PITIE",
          "PITIE",
          "PITIE",
          "PITIE",
          "PITIE",
          "PITIE",
          "PITIE",
          "PITIE",
          "PITIE",
          "PITIE",
          "PITIE",
          "PITIE",
          "PITIE",
          "PITIE",
          "PITIE",
          "PITIE",
          "PITIE",
          "PITIE",
          "PITIE",
          "PITIE",
          "PITIE",
          "PITIE",
          "PITIE",
          "PITIE",
          "PITIE",
          "PITIE",
          "PITIE",
          "PITIE",
          "PITIE",
          "PITIE",
          "PITIE",
          "PITIE",
          "PITIE",
          "PITIE",
          "PITIE",
          "PITIE",
          "PITIE",
          "PITIE",
          "PITIE",
          "PITIE",
          "PITIE",
          "PITIE",
          "PITIE",
          "PITIE",
          "PITIE",
          "PITIE",
          "PITIE",
          "PITIE",
          "PITIE",
          "PITIE",
          "PITIE",
          "PITIE",
          "PITIE",
          "PITIE",
          "PITIE",
          "PITIE",
          "PITIE",
          "PITIE",
          "PITIE",
          "PITIE",
          "PITIE",
          "PITIE",
          "PITIE",
          "PITIE",
          "PITIE",
          "PITIE",
          "PITIE",
          "PITIE",
          "PITIE",
          "PITIE",
          "PITIE",
          "PITIE",
          "PITIE",
          "PITIE",
          "PITIE"
         ],
         "x0": " ",
         "xaxis": "x",
         "y": [
          67,
          57,
          55,
          57,
          62,
          44,
          48,
          55,
          65,
          65,
          20,
          52,
          54,
          53,
          59,
          58,
          68,
          57,
          42,
          53,
          61,
          17,
          38,
          53,
          60,
          48,
          49,
          24,
          54,
          41,
          57,
          67,
          60,
          64,
          69,
          46,
          57,
          51,
          64,
          56,
          62,
          67,
          61,
          55,
          35,
          21,
          48,
          67,
          59,
          49,
          62,
          59,
          65,
          39,
          38,
          43,
          49,
          41,
          53,
          58,
          51,
          44,
          62,
          45,
          64,
          36,
          52,
          54,
          17,
          65,
          69,
          25,
          48,
          62,
          53,
          21,
          58,
          66,
          60,
          50,
          73,
          61,
          54,
          52,
          65,
          58,
          58,
          48,
          51,
          51,
          38,
          50,
          47,
          69,
          63,
          67,
          65,
          27,
          27,
          63,
          69,
          65,
          59,
          47,
          42,
          21,
          49,
          55,
          57,
          61,
          65,
          40,
          69,
          56,
          33,
          54,
          45,
          74,
          49,
          44,
          52,
          62,
          50,
          28,
          32,
          68,
          59,
          62,
          53,
          64,
          59,
          59,
          36,
          49,
          54,
          66,
          22,
          34,
          46,
          49,
          27,
          32,
          55,
          32,
          54,
          70,
          49,
          66,
          59,
          65,
          70,
          60,
          57,
          61,
          36,
          48,
          45,
          56,
          42,
          65,
          46,
          45,
          60,
          52,
          57,
          54,
          39,
          54,
          38,
          60,
          35,
          52,
          58,
          28,
          58,
          38,
          47,
          66,
          49,
          58,
          64,
          48,
          68,
          67,
          66,
          67,
          35,
          56,
          53,
          59,
          69,
          51,
          46,
          56,
          51,
          62,
          57,
          31,
          47,
          36,
          66,
          50,
          54,
          40,
          64,
          65,
          65,
          51,
          55,
          40,
          45,
          63,
          36,
          59,
          42,
          40,
          64,
          37,
          71,
          33,
          61,
          44,
          58,
          43,
          58,
          44,
          70,
          59,
          54,
          37,
          55,
          49,
          59,
          54,
          54,
          42,
          60,
          66,
          58,
          63,
          67,
          55,
          50,
          63,
          63,
          65,
          61,
          56,
          50,
          67,
          32,
          45,
          47,
          57,
          55,
          57,
          56,
          48,
          46,
          51,
          48,
          63,
          61,
          63,
          39,
          59,
          64,
          60,
          34,
          41
         ],
         "y0": " ",
         "yaxis": "y"
        },
        {
         "alignmentgroup": "True",
         "hovertemplate": "Hopital=%{x}<br>Age=%{y}<extra></extra>",
         "legendgroup": "BICHAT",
         "marker": {
          "color": "red"
         },
         "name": "BICHAT",
         "notched": true,
         "offsetgroup": "BICHAT",
         "orientation": "v",
         "showlegend": true,
         "type": "box",
         "x": [
          "BICHAT",
          "BICHAT",
          "BICHAT",
          "BICHAT",
          "BICHAT",
          "BICHAT",
          "BICHAT",
          "BICHAT",
          "BICHAT",
          "BICHAT",
          "BICHAT",
          "BICHAT",
          "BICHAT",
          "BICHAT",
          "BICHAT",
          "BICHAT",
          "BICHAT",
          "BICHAT",
          "BICHAT",
          "BICHAT",
          "BICHAT",
          "BICHAT",
          "BICHAT",
          "BICHAT",
          "BICHAT",
          "BICHAT",
          "BICHAT",
          "BICHAT",
          "BICHAT",
          "BICHAT",
          "BICHAT",
          "BICHAT",
          "BICHAT",
          "BICHAT",
          "BICHAT",
          "BICHAT",
          "BICHAT",
          "BICHAT",
          "BICHAT",
          "BICHAT",
          "BICHAT",
          "BICHAT",
          "BICHAT",
          "BICHAT",
          "BICHAT",
          "BICHAT",
          "BICHAT",
          "BICHAT",
          "BICHAT",
          "BICHAT",
          "BICHAT",
          "BICHAT",
          "BICHAT",
          "BICHAT",
          "BICHAT",
          "BICHAT",
          "BICHAT",
          "BICHAT",
          "BICHAT",
          "BICHAT",
          "BICHAT",
          "BICHAT",
          "BICHAT",
          "BICHAT",
          "BICHAT",
          "BICHAT",
          "BICHAT",
          "BICHAT",
          "BICHAT",
          "BICHAT",
          "BICHAT",
          "BICHAT",
          "BICHAT",
          "BICHAT",
          "BICHAT",
          "BICHAT",
          "BICHAT",
          "BICHAT",
          "BICHAT",
          "BICHAT",
          "BICHAT",
          "BICHAT",
          "BICHAT",
          "BICHAT",
          "BICHAT",
          "BICHAT",
          "BICHAT",
          "BICHAT",
          "BICHAT",
          "BICHAT",
          "BICHAT",
          "BICHAT",
          "BICHAT",
          "BICHAT",
          "BICHAT",
          "BICHAT",
          "BICHAT",
          "BICHAT",
          "BICHAT",
          "BICHAT",
          "BICHAT",
          "BICHAT",
          "BICHAT",
          "BICHAT",
          "BICHAT",
          "BICHAT",
          "BICHAT",
          "BICHAT",
          "BICHAT",
          "BICHAT",
          "BICHAT",
          "BICHAT",
          "BICHAT",
          "BICHAT",
          "BICHAT",
          "BICHAT",
          "BICHAT",
          "BICHAT",
          "BICHAT",
          "BICHAT",
          "BICHAT",
          "BICHAT",
          "BICHAT",
          "BICHAT",
          "BICHAT",
          "BICHAT",
          "BICHAT",
          "BICHAT",
          "BICHAT",
          "BICHAT",
          "BICHAT",
          "BICHAT",
          "BICHAT",
          "BICHAT",
          "BICHAT",
          "BICHAT",
          "BICHAT",
          "BICHAT",
          "BICHAT",
          "BICHAT",
          "BICHAT",
          "BICHAT",
          "BICHAT",
          "BICHAT",
          "BICHAT",
          "BICHAT",
          "BICHAT",
          "BICHAT",
          "BICHAT",
          "BICHAT",
          "BICHAT",
          "BICHAT",
          "BICHAT",
          "BICHAT",
          "BICHAT",
          "BICHAT",
          "BICHAT",
          "BICHAT",
          "BICHAT",
          "BICHAT",
          "BICHAT",
          "BICHAT",
          "BICHAT",
          "BICHAT",
          "BICHAT",
          "BICHAT",
          "BICHAT",
          "BICHAT",
          "BICHAT",
          "BICHAT",
          "BICHAT",
          "BICHAT",
          "BICHAT",
          "BICHAT",
          "BICHAT",
          "BICHAT",
          "BICHAT",
          "BICHAT",
          "BICHAT",
          "BICHAT",
          "BICHAT",
          "BICHAT",
          "BICHAT",
          "BICHAT",
          "BICHAT",
          "BICHAT",
          "BICHAT",
          "BICHAT",
          "BICHAT",
          "BICHAT",
          "BICHAT",
          "BICHAT",
          "BICHAT",
          "BICHAT",
          "BICHAT",
          "BICHAT",
          "BICHAT",
          "BICHAT",
          "BICHAT",
          "BICHAT",
          "BICHAT",
          "BICHAT",
          "BICHAT",
          "BICHAT",
          "BICHAT",
          "BICHAT",
          "BICHAT",
          "BICHAT",
          "BICHAT",
          "BICHAT",
          "BICHAT",
          "BICHAT",
          "BICHAT",
          "BICHAT",
          "BICHAT",
          "BICHAT",
          "BICHAT",
          "BICHAT",
          "BICHAT",
          "BICHAT",
          "BICHAT",
          "BICHAT",
          "BICHAT",
          "BICHAT",
          "BICHAT",
          "BICHAT",
          "BICHAT",
          "BICHAT",
          "BICHAT",
          "BICHAT",
          "BICHAT",
          "BICHAT",
          "BICHAT",
          "BICHAT",
          "BICHAT",
          "BICHAT",
          "BICHAT",
          "BICHAT",
          "BICHAT",
          "BICHAT"
         ],
         "x0": " ",
         "xaxis": "x",
         "y": [
          57,
          55,
          67,
          46,
          68,
          54,
          39,
          63,
          59,
          62,
          64,
          67,
          40,
          53,
          66,
          62,
          72,
          55,
          47,
          63,
          58,
          49,
          62,
          48,
          59,
          51,
          46,
          43,
          55,
          59,
          61,
          47,
          37,
          36,
          60,
          45,
          42,
          63,
          48,
          44,
          50,
          50,
          64,
          66,
          17,
          51,
          57,
          41,
          34,
          66,
          45,
          62,
          51,
          35,
          66,
          22,
          63,
          38,
          42,
          55,
          59,
          50,
          63,
          59,
          40,
          56,
          50,
          56,
          17,
          63,
          66,
          40,
          59,
          56,
          60,
          54,
          66,
          57,
          75,
          61,
          60,
          52,
          54,
          53,
          67,
          59,
          46,
          62,
          65,
          27,
          47,
          56,
          50,
          32,
          62,
          61,
          40,
          61,
          62,
          51,
          54,
          56,
          28,
          47,
          64,
          45,
          59,
          21,
          59,
          52,
          52,
          17,
          53,
          60,
          46,
          33,
          61,
          33,
          61,
          71,
          32,
          64,
          66,
          31,
          53,
          53,
          40,
          31,
          68,
          62,
          47,
          64,
          66,
          19,
          60,
          32,
          69,
          53,
          47,
          68,
          22,
          43,
          61,
          36,
          60,
          60,
          49,
          40,
          47,
          67,
          30,
          58,
          48,
          71,
          68,
          60,
          67,
          44,
          40,
          64,
          37,
          64,
          57,
          32,
          28,
          59,
          36,
          66,
          38,
          51,
          62,
          59,
          62,
          46,
          34,
          67,
          56,
          46,
          37,
          66,
          66,
          59,
          51,
          49,
          58,
          48,
          42,
          64,
          49,
          55,
          52,
          57,
          33,
          45,
          38,
          63,
          55,
          65,
          61,
          31,
          27,
          48,
          31,
          60,
          57,
          46,
          71,
          51,
          47,
          43,
          47,
          58,
          61,
          36,
          54,
          52,
          56,
          59,
          58,
          35,
          48,
          39,
          70,
          70,
          60,
          54,
          64,
          65,
          20,
          35,
          60,
          60,
          66,
          61,
          41,
          45,
          66,
          56,
          35,
          53
         ],
         "y0": " ",
         "yaxis": "y"
        }
       ],
       "layout": {
        "boxmode": "overlay",
        "legend": {
         "title": {
          "text": "Hopital"
         },
         "tracegroupgap": 0
        },
        "margin": {
         "t": 60
        },
        "template": {
         "data": {
          "candlestick": [
           {
            "decreasing": {
             "line": {
              "color": "#000033"
             }
            },
            "increasing": {
             "line": {
              "color": "#000032"
             }
            },
            "type": "candlestick"
           }
          ],
          "contour": [
           {
            "colorscale": [
             [
              0,
              "#000011"
             ],
             [
              0.1111111111111111,
              "#000012"
             ],
             [
              0.2222222222222222,
              "#000013"
             ],
             [
              0.3333333333333333,
              "#000014"
             ],
             [
              0.4444444444444444,
              "#000015"
             ],
             [
              0.5555555555555556,
              "#000016"
             ],
             [
              0.6666666666666666,
              "#000017"
             ],
             [
              0.7777777777777778,
              "#000018"
             ],
             [
              0.8888888888888888,
              "#000019"
             ],
             [
              1,
              "#000020"
             ]
            ],
            "type": "contour"
           }
          ],
          "contourcarpet": [
           {
            "colorscale": [
             [
              0,
              "#000011"
             ],
             [
              0.1111111111111111,
              "#000012"
             ],
             [
              0.2222222222222222,
              "#000013"
             ],
             [
              0.3333333333333333,
              "#000014"
             ],
             [
              0.4444444444444444,
              "#000015"
             ],
             [
              0.5555555555555556,
              "#000016"
             ],
             [
              0.6666666666666666,
              "#000017"
             ],
             [
              0.7777777777777778,
              "#000018"
             ],
             [
              0.8888888888888888,
              "#000019"
             ],
             [
              1,
              "#000020"
             ]
            ],
            "type": "contourcarpet"
           }
          ],
          "heatmap": [
           {
            "colorscale": [
             [
              0,
              "#000011"
             ],
             [
              0.1111111111111111,
              "#000012"
             ],
             [
              0.2222222222222222,
              "#000013"
             ],
             [
              0.3333333333333333,
              "#000014"
             ],
             [
              0.4444444444444444,
              "#000015"
             ],
             [
              0.5555555555555556,
              "#000016"
             ],
             [
              0.6666666666666666,
              "#000017"
             ],
             [
              0.7777777777777778,
              "#000018"
             ],
             [
              0.8888888888888888,
              "#000019"
             ],
             [
              1,
              "#000020"
             ]
            ],
            "type": "heatmap"
           }
          ],
          "histogram2d": [
           {
            "colorscale": [
             [
              0,
              "#000011"
             ],
             [
              0.1111111111111111,
              "#000012"
             ],
             [
              0.2222222222222222,
              "#000013"
             ],
             [
              0.3333333333333333,
              "#000014"
             ],
             [
              0.4444444444444444,
              "#000015"
             ],
             [
              0.5555555555555556,
              "#000016"
             ],
             [
              0.6666666666666666,
              "#000017"
             ],
             [
              0.7777777777777778,
              "#000018"
             ],
             [
              0.8888888888888888,
              "#000019"
             ],
             [
              1,
              "#000020"
             ]
            ],
            "type": "histogram2d"
           }
          ],
          "icicle": [
           {
            "textfont": {
             "color": "white"
            },
            "type": "icicle"
           }
          ],
          "sankey": [
           {
            "textfont": {
             "color": "#000036"
            },
            "type": "sankey"
           }
          ],
          "scatter": [
           {
            "marker": {
             "line": {
              "width": 0
             }
            },
            "type": "scatter"
           }
          ],
          "table": [
           {
            "cells": {
             "fill": {
              "color": "#000038"
             },
             "font": {
              "color": "#000037"
             },
             "line": {
              "color": "#000039"
             }
            },
            "header": {
             "fill": {
              "color": "#000040"
             },
             "font": {
              "color": "#000036"
             },
             "line": {
              "color": "#000039"
             }
            },
            "type": "table"
           }
          ],
          "waterfall": [
           {
            "connector": {
             "line": {
              "color": "#000036",
              "width": 2
             }
            },
            "decreasing": {
             "marker": {
              "color": "#000033"
             }
            },
            "increasing": {
             "marker": {
              "color": "#000032"
             }
            },
            "totals": {
             "marker": {
              "color": "#000034"
             }
            },
            "type": "waterfall"
           }
          ]
         },
         "layout": {
          "coloraxis": {
           "colorscale": [
            [
             0,
             "#000011"
            ],
            [
             0.1111111111111111,
             "#000012"
            ],
            [
             0.2222222222222222,
             "#000013"
            ],
            [
             0.3333333333333333,
             "#000014"
            ],
            [
             0.4444444444444444,
             "#000015"
            ],
            [
             0.5555555555555556,
             "#000016"
            ],
            [
             0.6666666666666666,
             "#000017"
            ],
            [
             0.7777777777777778,
             "#000018"
            ],
            [
             0.8888888888888888,
             "#000019"
            ],
            [
             1,
             "#000020"
            ]
           ]
          },
          "colorscale": {
           "diverging": [
            [
             0,
             "#000021"
            ],
            [
             0.1,
             "#000022"
            ],
            [
             0.2,
             "#000023"
            ],
            [
             0.3,
             "#000024"
            ],
            [
             0.4,
             "#000025"
            ],
            [
             0.5,
             "#000026"
            ],
            [
             0.6,
             "#000027"
            ],
            [
             0.7,
             "#000028"
            ],
            [
             0.8,
             "#000029"
            ],
            [
             0.9,
             "#000030"
            ],
            [
             1,
             "#000031"
            ]
           ],
           "sequential": [
            [
             0,
             "#000011"
            ],
            [
             0.1111111111111111,
             "#000012"
            ],
            [
             0.2222222222222222,
             "#000013"
            ],
            [
             0.3333333333333333,
             "#000014"
            ],
            [
             0.4444444444444444,
             "#000015"
            ],
            [
             0.5555555555555556,
             "#000016"
            ],
            [
             0.6666666666666666,
             "#000017"
            ],
            [
             0.7777777777777778,
             "#000018"
            ],
            [
             0.8888888888888888,
             "#000019"
            ],
            [
             1,
             "#000020"
            ]
           ],
           "sequentialminus": [
            [
             0,
             "#000011"
            ],
            [
             0.1111111111111111,
             "#000012"
            ],
            [
             0.2222222222222222,
             "#000013"
            ],
            [
             0.3333333333333333,
             "#000014"
            ],
            [
             0.4444444444444444,
             "#000015"
            ],
            [
             0.5555555555555556,
             "#000016"
            ],
            [
             0.6666666666666666,
             "#000017"
            ],
            [
             0.7777777777777778,
             "#000018"
            ],
            [
             0.8888888888888888,
             "#000019"
            ],
            [
             1,
             "#000020"
            ]
           ]
          },
          "colorway": [
           "#000001",
           "#000002",
           "#000003",
           "#000004",
           "#000005",
           "#000006",
           "#000007",
           "#000008",
           "#000009",
           "#000010"
          ]
         }
        },
        "xaxis": {
         "anchor": "y",
         "categoryarray": [
          "HEGP",
          "PITIE",
          "BICHAT"
         ],
         "categoryorder": "array",
         "domain": [
          0,
          1
         ],
         "title": {
          "text": "Hopital"
         }
        },
        "yaxis": {
         "anchor": "x",
         "domain": [
          0,
          1
         ],
         "title": {
          "text": "Age"
         }
        }
       }
      }
     },
     "metadata": {},
     "output_type": "display_data"
    }
   ],
   "source": [
    "fig = px.box(df, x=\"Hopital\", y=\"Age\", color=\"Hopital\", color_discrete_map={\"BICHAT\": \"red\",\"HEGP\": \"green\",\"PITIE\": \"blue\"}, notched=True)\n",
    "fig.show()"
   ]
  },
  {
   "cell_type": "code",
   "execution_count": 186,
   "metadata": {},
   "outputs": [
    {
     "data": {
      "application/vnd.plotly.v1+json": {
       "config": {
        "plotlyServerURL": "https://plot.ly"
       },
       "data": [
        {
         "alignmentgroup": "True",
         "error_y": {
          "array": [
           12.51
          ]
         },
         "hovertemplate": "Hopital=%{x}<br>mean=%{y}<extra></extra>",
         "legendgroup": "BICHAT",
         "marker": {
          "color": "red",
          "pattern": {
           "shape": ""
          }
         },
         "name": "BICHAT",
         "offsetgroup": "BICHAT",
         "orientation": "v",
         "showlegend": true,
         "textposition": "auto",
         "type": "bar",
         "x": [
          "BICHAT"
         ],
         "xaxis": "x",
         "y": [
          51.92
         ],
         "yaxis": "y"
        },
        {
         "alignmentgroup": "True",
         "error_y": {
          "array": [
           13.36
          ]
         },
         "hovertemplate": "Hopital=%{x}<br>mean=%{y}<extra></extra>",
         "legendgroup": "HEGP",
         "marker": {
          "color": "green",
          "pattern": {
           "shape": ""
          }
         },
         "name": "HEGP",
         "offsetgroup": "HEGP",
         "orientation": "v",
         "showlegend": true,
         "textposition": "auto",
         "type": "bar",
         "x": [
          "HEGP"
         ],
         "xaxis": "x",
         "y": [
          48.81
         ],
         "yaxis": "y"
        },
        {
         "alignmentgroup": "True",
         "error_y": {
          "array": [
           11.88
          ]
         },
         "hovertemplate": "Hopital=%{x}<br>mean=%{y}<extra></extra>",
         "legendgroup": "PITIE",
         "marker": {
          "color": "blue",
          "pattern": {
           "shape": ""
          }
         },
         "name": "PITIE",
         "offsetgroup": "PITIE",
         "orientation": "v",
         "showlegend": true,
         "textposition": "auto",
         "type": "bar",
         "x": [
          "PITIE"
         ],
         "xaxis": "x",
         "y": [
          52.55
         ],
         "yaxis": "y"
        }
       ],
       "layout": {
        "barmode": "relative",
        "legend": {
         "title": {
          "text": "Hopital"
         },
         "tracegroupgap": 0
        },
        "template": {
         "data": {
          "candlestick": [
           {
            "decreasing": {
             "line": {
              "color": "#000033"
             }
            },
            "increasing": {
             "line": {
              "color": "#000032"
             }
            },
            "type": "candlestick"
           }
          ],
          "contour": [
           {
            "colorscale": [
             [
              0,
              "#000011"
             ],
             [
              0.1111111111111111,
              "#000012"
             ],
             [
              0.2222222222222222,
              "#000013"
             ],
             [
              0.3333333333333333,
              "#000014"
             ],
             [
              0.4444444444444444,
              "#000015"
             ],
             [
              0.5555555555555556,
              "#000016"
             ],
             [
              0.6666666666666666,
              "#000017"
             ],
             [
              0.7777777777777778,
              "#000018"
             ],
             [
              0.8888888888888888,
              "#000019"
             ],
             [
              1,
              "#000020"
             ]
            ],
            "type": "contour"
           }
          ],
          "contourcarpet": [
           {
            "colorscale": [
             [
              0,
              "#000011"
             ],
             [
              0.1111111111111111,
              "#000012"
             ],
             [
              0.2222222222222222,
              "#000013"
             ],
             [
              0.3333333333333333,
              "#000014"
             ],
             [
              0.4444444444444444,
              "#000015"
             ],
             [
              0.5555555555555556,
              "#000016"
             ],
             [
              0.6666666666666666,
              "#000017"
             ],
             [
              0.7777777777777778,
              "#000018"
             ],
             [
              0.8888888888888888,
              "#000019"
             ],
             [
              1,
              "#000020"
             ]
            ],
            "type": "contourcarpet"
           }
          ],
          "heatmap": [
           {
            "colorscale": [
             [
              0,
              "#000011"
             ],
             [
              0.1111111111111111,
              "#000012"
             ],
             [
              0.2222222222222222,
              "#000013"
             ],
             [
              0.3333333333333333,
              "#000014"
             ],
             [
              0.4444444444444444,
              "#000015"
             ],
             [
              0.5555555555555556,
              "#000016"
             ],
             [
              0.6666666666666666,
              "#000017"
             ],
             [
              0.7777777777777778,
              "#000018"
             ],
             [
              0.8888888888888888,
              "#000019"
             ],
             [
              1,
              "#000020"
             ]
            ],
            "type": "heatmap"
           }
          ],
          "histogram2d": [
           {
            "colorscale": [
             [
              0,
              "#000011"
             ],
             [
              0.1111111111111111,
              "#000012"
             ],
             [
              0.2222222222222222,
              "#000013"
             ],
             [
              0.3333333333333333,
              "#000014"
             ],
             [
              0.4444444444444444,
              "#000015"
             ],
             [
              0.5555555555555556,
              "#000016"
             ],
             [
              0.6666666666666666,
              "#000017"
             ],
             [
              0.7777777777777778,
              "#000018"
             ],
             [
              0.8888888888888888,
              "#000019"
             ],
             [
              1,
              "#000020"
             ]
            ],
            "type": "histogram2d"
           }
          ],
          "icicle": [
           {
            "textfont": {
             "color": "white"
            },
            "type": "icicle"
           }
          ],
          "sankey": [
           {
            "textfont": {
             "color": "#000036"
            },
            "type": "sankey"
           }
          ],
          "scatter": [
           {
            "marker": {
             "line": {
              "width": 0
             }
            },
            "type": "scatter"
           }
          ],
          "table": [
           {
            "cells": {
             "fill": {
              "color": "#000038"
             },
             "font": {
              "color": "#000037"
             },
             "line": {
              "color": "#000039"
             }
            },
            "header": {
             "fill": {
              "color": "#000040"
             },
             "font": {
              "color": "#000036"
             },
             "line": {
              "color": "#000039"
             }
            },
            "type": "table"
           }
          ],
          "waterfall": [
           {
            "connector": {
             "line": {
              "color": "#000036",
              "width": 2
             }
            },
            "decreasing": {
             "marker": {
              "color": "#000033"
             }
            },
            "increasing": {
             "marker": {
              "color": "#000032"
             }
            },
            "totals": {
             "marker": {
              "color": "#000034"
             }
            },
            "type": "waterfall"
           }
          ]
         },
         "layout": {
          "coloraxis": {
           "colorscale": [
            [
             0,
             "#000011"
            ],
            [
             0.1111111111111111,
             "#000012"
            ],
            [
             0.2222222222222222,
             "#000013"
            ],
            [
             0.3333333333333333,
             "#000014"
            ],
            [
             0.4444444444444444,
             "#000015"
            ],
            [
             0.5555555555555556,
             "#000016"
            ],
            [
             0.6666666666666666,
             "#000017"
            ],
            [
             0.7777777777777778,
             "#000018"
            ],
            [
             0.8888888888888888,
             "#000019"
            ],
            [
             1,
             "#000020"
            ]
           ]
          },
          "colorscale": {
           "diverging": [
            [
             0,
             "#000021"
            ],
            [
             0.1,
             "#000022"
            ],
            [
             0.2,
             "#000023"
            ],
            [
             0.3,
             "#000024"
            ],
            [
             0.4,
             "#000025"
            ],
            [
             0.5,
             "#000026"
            ],
            [
             0.6,
             "#000027"
            ],
            [
             0.7,
             "#000028"
            ],
            [
             0.8,
             "#000029"
            ],
            [
             0.9,
             "#000030"
            ],
            [
             1,
             "#000031"
            ]
           ],
           "sequential": [
            [
             0,
             "#000011"
            ],
            [
             0.1111111111111111,
             "#000012"
            ],
            [
             0.2222222222222222,
             "#000013"
            ],
            [
             0.3333333333333333,
             "#000014"
            ],
            [
             0.4444444444444444,
             "#000015"
            ],
            [
             0.5555555555555556,
             "#000016"
            ],
            [
             0.6666666666666666,
             "#000017"
            ],
            [
             0.7777777777777778,
             "#000018"
            ],
            [
             0.8888888888888888,
             "#000019"
            ],
            [
             1,
             "#000020"
            ]
           ],
           "sequentialminus": [
            [
             0,
             "#000011"
            ],
            [
             0.1111111111111111,
             "#000012"
            ],
            [
             0.2222222222222222,
             "#000013"
            ],
            [
             0.3333333333333333,
             "#000014"
            ],
            [
             0.4444444444444444,
             "#000015"
            ],
            [
             0.5555555555555556,
             "#000016"
            ],
            [
             0.6666666666666666,
             "#000017"
            ],
            [
             0.7777777777777778,
             "#000018"
            ],
            [
             0.8888888888888888,
             "#000019"
            ],
            [
             1,
             "#000020"
            ]
           ]
          },
          "colorway": [
           "#000001",
           "#000002",
           "#000003",
           "#000004",
           "#000005",
           "#000006",
           "#000007",
           "#000008",
           "#000009",
           "#000010"
          ]
         }
        },
        "title": {
         "text": "Age par Hopital"
        },
        "xaxis": {
         "anchor": "y",
         "categoryarray": [
          "BICHAT",
          "HEGP",
          "PITIE"
         ],
         "categoryorder": "array",
         "domain": [
          0,
          1
         ],
         "title": {
          "text": "Hopital"
         }
        },
        "yaxis": {
         "anchor": "x",
         "domain": [
          0,
          1
         ],
         "title": {
          "text": "mean"
         }
        }
       }
      }
     },
     "metadata": {},
     "output_type": "display_data"
    }
   ],
   "source": [
    "bar_fig = px.bar(df), x='Hopital', y='mean', error_y='std', title='Age par Hopital', orientation='v',\n",
    "                 color='Hopital', color_discrete_map={\"BICHAT\": \"red\",\"HEGP\": \"green\",\"PITIE\": \"blue\"})\n",
    "bar_fig.show()"
   ]
  },
  {
   "cell_type": "code",
   "execution_count": null,
   "metadata": {},
   "outputs": [],
   "source": [
    "# incorporate data into app\n",
    "\n",
    "\n",
    "# Build your components\n",
    "app = Dash(__name__, external_stylesheets=[dbc.themes.LUX])\n",
    "mytitle = dcc.Markdown(children='# Transplantations cardiaques APHP')\n",
    "mygraph = dcc.Graph(figure={})\n",
    "dropdown = dcc.Dropdown(options=['Bar Plot', 'Scatter Plot'],\n",
    "                        value='Bar Plot',  # initial value displayed when page first loads\n",
    "                        clearable=False)\n",
    "\n",
    "# Customize your own Layout\n",
    "app.layout = dbc.Container([mytitle, mygraph, dropdown])\n",
    "\n",
    "# Callback allows components to interact\n",
    "@app.callback(\n",
    "    Output(mygraph, component_property='figure'),\n",
    "    Input(dropdown, component_property='value')\n",
    ")\n",
    "def update_graph(user_input):  # function arguments come from the component property of the Input\n",
    "    if user_input == 'Bar Plot':\n",
    "        fig = px.bar(data_frame=selected, x=\"Year\", y=\"Age\", color=\"Hopital\", color_discrete_map={\"BICHAT\": \"red\",\"HEGP\": \"green\",\"PITIE\": \"blue\"})\n",
    "\n",
    "    elif user_input == 'Scatter Plot':\n",
    "        fig = px.scatter(data_frame=selected, x=\"Age\", y=\"Hb_preop\", color=\"Hopital\",color_discrete_map={\"BICHAT\": \"red\",\"HEGP\": \"green\",\"PITIE\": \"blue\"})\n",
    "\n",
    "    return fig\n",
    "\n",
    "if __name__=='__main__':\n",
    "    app.run_server(port=8888)"
   ]
  }
 ],
 "metadata": {
  "kernelspec": {
   "display_name": "Python 3",
   "language": "python",
   "name": "python3"
  },
  "language_info": {
   "codemirror_mode": {
    "name": "ipython",
    "version": 3
   },
   "file_extension": ".py",
   "mimetype": "text/x-python",
   "name": "python",
   "nbconvert_exporter": "python",
   "pygments_lexer": "ipython3",
   "version": "3.10.7"
  }
 },
 "nbformat": 4,
 "nbformat_minor": 2
}
